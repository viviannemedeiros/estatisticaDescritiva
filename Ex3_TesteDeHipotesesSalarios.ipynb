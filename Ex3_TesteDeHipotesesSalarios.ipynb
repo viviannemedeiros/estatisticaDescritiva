{
  "nbformat": 4,
  "nbformat_minor": 0,
  "metadata": {
    "colab": {
      "name": "Ex3-TesteDeHipotesesSalarios.ipynb",
      "provenance": [],
      "collapsed_sections": [],
      "include_colab_link": true
    },
    "kernelspec": {
      "name": "python3",
      "display_name": "Python 3"
    }
  },
  "cells": [
    {
      "cell_type": "markdown",
      "metadata": {
        "id": "view-in-github",
        "colab_type": "text"
      },
      "source": [
        "<a href=\"https://colab.research.google.com/github/viviannemedeiros/estatisticaDescritiva/blob/master/Ex3_TesteDeHipotesesSalarios.ipynb\" target=\"_parent\"><img src=\"https://colab.research.google.com/assets/colab-badge.svg\" alt=\"Open In Colab\"/></a>"
      ]
    },
    {
      "cell_type": "markdown",
      "metadata": {
        "id": "3m3z9nRLxvLY",
        "colab_type": "text"
      },
      "source": [
        "# ***Projeto - Estatística Descritiva - Exercício 03 - Teste de Hipóteses ***\n",
        "08/02/2020\n",
        "\n",
        "**Prof:** Tsang Ing Ren\n",
        "\n",
        "**Grupo:** Alexandra Vitorio\n",
        "\n",
        "Vivianne Medeiros\n",
        "\n",
        "**Objetivo:** Realizar testes de hipótese para validar se a idade média de quem ganha acima de 50k é maior que 40 anos.\n",
        "\n",
        "\n",
        "**Fonte dos dados:** https://archive.ics.uci.edu/ml/machine-learning-databases/adult/\n",
        "\n",
        "A fonte de dados é a mesma utilizada nos exercícios anteriores, contendo detalhes de seu conteúdo no Exercício 1."
      ]
    },
    {
      "cell_type": "markdown",
      "metadata": {
        "id": "I7Y1GDxYx9zK",
        "colab_type": "text"
      },
      "source": [
        "## **Procedimento para realizar um teste de hipótese:**\n",
        "1. Identifique o parâmetro de interesse no problema em análise.\n",
        "2. Fixe qual a hipótese nula  $H_0$ e alternativa  $H_a$.\n",
        "3. Use teoria estatı́stica e informações disponı́veis para decidir que estimador será usado para testar  $H_0$.\n",
        "4. Obtenha a distribuição do estimador proposto.\n",
        "Determine  α.\n",
        "5. Construa a região crı́tica para o teste de modo que  α  seja satisfeita.\n",
        "6. Use os dados da amostra para determinar o valor do estimador, ou seja, uma estimativa para o parâmetro.\n",
        "7. Se o valor do estimador pertencer a região crı́tica, rejeite  $H_0$. Caso contrário, reporte que não existe evidência para se rejeitar  $H_0$."
      ]
    },
    {
      "cell_type": "markdown",
      "metadata": {
        "id": "-ZM8Zg6PvUsk",
        "colab_type": "text"
      },
      "source": [
        "# Teste de hipóteses"
      ]
    },
    {
      "cell_type": "code",
      "metadata": {
        "id": "leWHoMlix9a-",
        "colab_type": "code",
        "outputId": "323f24b3-922e-47ee-d875-5512134f2bfa",
        "colab": {
          "base_uri": "https://localhost:8080/",
          "height": 297
        }
      },
      "source": [
        "import pandas as pd\n",
        "import numpy as np\n",
        "import matplotlib.pyplot as plt\n",
        "adultosTotal=pd.read_csv(\"https://raw.githubusercontent.com/viviannemedeiros/estatisticaDescritiva/master/adult.data\", \n",
        "                      encoding = \"ISO-8859-1\", sep=\",\", header=None, names=['age', 'workclass', 'fnlwgt', 'education', 'education-num', \n",
        "                                                                            'marital-status', 'occupation', 'relationship', 'race', 'sex', \n",
        "                                                                            'capital-gain', 'capital-loss', 'hours-per-week', \n",
        "                                                                            'native-country', 'class'])\n",
        "# Filtrando dados de apenas uma classe, pessoas que ganham acima de 50K\n",
        "adultos = adultosTotal.loc[(adultosTotal['class'] == ' >50K')] \n",
        "adultos.describe()"
      ],
      "execution_count": 0,
      "outputs": [
        {
          "output_type": "execute_result",
          "data": {
            "text/html": [
              "<div>\n",
              "<style scoped>\n",
              "    .dataframe tbody tr th:only-of-type {\n",
              "        vertical-align: middle;\n",
              "    }\n",
              "\n",
              "    .dataframe tbody tr th {\n",
              "        vertical-align: top;\n",
              "    }\n",
              "\n",
              "    .dataframe thead th {\n",
              "        text-align: right;\n",
              "    }\n",
              "</style>\n",
              "<table border=\"1\" class=\"dataframe\">\n",
              "  <thead>\n",
              "    <tr style=\"text-align: right;\">\n",
              "      <th></th>\n",
              "      <th>age</th>\n",
              "      <th>fnlwgt</th>\n",
              "      <th>education-num</th>\n",
              "      <th>capital-gain</th>\n",
              "      <th>capital-loss</th>\n",
              "      <th>hours-per-week</th>\n",
              "    </tr>\n",
              "  </thead>\n",
              "  <tbody>\n",
              "    <tr>\n",
              "      <th>count</th>\n",
              "      <td>24720.000000</td>\n",
              "      <td>2.472000e+04</td>\n",
              "      <td>24720.000000</td>\n",
              "      <td>24720.000000</td>\n",
              "      <td>24720.000000</td>\n",
              "      <td>24720.000000</td>\n",
              "    </tr>\n",
              "    <tr>\n",
              "      <th>mean</th>\n",
              "      <td>36.783738</td>\n",
              "      <td>1.903409e+05</td>\n",
              "      <td>9.595065</td>\n",
              "      <td>148.752468</td>\n",
              "      <td>53.142921</td>\n",
              "      <td>38.840210</td>\n",
              "    </tr>\n",
              "    <tr>\n",
              "      <th>std</th>\n",
              "      <td>14.020088</td>\n",
              "      <td>1.064823e+05</td>\n",
              "      <td>2.436147</td>\n",
              "      <td>963.139307</td>\n",
              "      <td>310.755769</td>\n",
              "      <td>12.318995</td>\n",
              "    </tr>\n",
              "    <tr>\n",
              "      <th>min</th>\n",
              "      <td>17.000000</td>\n",
              "      <td>1.228500e+04</td>\n",
              "      <td>1.000000</td>\n",
              "      <td>0.000000</td>\n",
              "      <td>0.000000</td>\n",
              "      <td>1.000000</td>\n",
              "    </tr>\n",
              "    <tr>\n",
              "      <th>25%</th>\n",
              "      <td>25.000000</td>\n",
              "      <td>1.176060e+05</td>\n",
              "      <td>9.000000</td>\n",
              "      <td>0.000000</td>\n",
              "      <td>0.000000</td>\n",
              "      <td>35.000000</td>\n",
              "    </tr>\n",
              "    <tr>\n",
              "      <th>50%</th>\n",
              "      <td>34.000000</td>\n",
              "      <td>1.794650e+05</td>\n",
              "      <td>9.000000</td>\n",
              "      <td>0.000000</td>\n",
              "      <td>0.000000</td>\n",
              "      <td>40.000000</td>\n",
              "    </tr>\n",
              "    <tr>\n",
              "      <th>75%</th>\n",
              "      <td>46.000000</td>\n",
              "      <td>2.390230e+05</td>\n",
              "      <td>10.000000</td>\n",
              "      <td>0.000000</td>\n",
              "      <td>0.000000</td>\n",
              "      <td>40.000000</td>\n",
              "    </tr>\n",
              "    <tr>\n",
              "      <th>max</th>\n",
              "      <td>90.000000</td>\n",
              "      <td>1.484705e+06</td>\n",
              "      <td>16.000000</td>\n",
              "      <td>41310.000000</td>\n",
              "      <td>4356.000000</td>\n",
              "      <td>99.000000</td>\n",
              "    </tr>\n",
              "  </tbody>\n",
              "</table>\n",
              "</div>"
            ],
            "text/plain": [
              "                age        fnlwgt  ...  capital-loss  hours-per-week\n",
              "count  24720.000000  2.472000e+04  ...  24720.000000    24720.000000\n",
              "mean      36.783738  1.903409e+05  ...     53.142921       38.840210\n",
              "std       14.020088  1.064823e+05  ...    310.755769       12.318995\n",
              "min       17.000000  1.228500e+04  ...      0.000000        1.000000\n",
              "25%       25.000000  1.176060e+05  ...      0.000000       35.000000\n",
              "50%       34.000000  1.794650e+05  ...      0.000000       40.000000\n",
              "75%       46.000000  2.390230e+05  ...      0.000000       40.000000\n",
              "max       90.000000  1.484705e+06  ...   4356.000000       99.000000\n",
              "\n",
              "[8 rows x 6 columns]"
            ]
          },
          "metadata": {
            "tags": []
          },
          "execution_count": 38
        }
      ]
    },
    {
      "cell_type": "markdown",
      "metadata": {
        "id": "3sTjDE47yzDr",
        "colab_type": "text"
      },
      "source": [
        "**Afirmação:**  A idade média de quem ganha acima de 50k é maior que 40 anos.\n",
        "\n",
        "1. Parâmetro de interesse: $\\mu_{age}$\n",
        "2. $H_0: \\mu_{age} \\leq 40$;\n",
        "$H_a: \\mu_{age} > 40$\n",
        "3. Estimador: $\\bar{X}$\n",
        "4. $Z_0 = \\frac{\\bar{X} - \\mu_0}{\\frac{\\sigma}{\\sqrt{n}}}$ \n",
        "5. $\\alpha = 0,05$\n",
        "6. $z_c = 1,65$. Rejeitamos $H_0$ se $z_0 > 1,65$."
      ]
    },
    {
      "cell_type": "code",
      "metadata": {
        "id": "4b1P2ZO5vm4Q",
        "colab_type": "code",
        "colab": {}
      },
      "source": [
        "# Cálculo de média e desvio padrão da idade\n",
        "mi_age = adultos['age'].mean()\n",
        "sigma_age = adultos['age'].std()"
      ],
      "execution_count": 0,
      "outputs": []
    },
    {
      "cell_type": "code",
      "metadata": {
        "id": "2iRgL7Onvz77",
        "colab_type": "code",
        "outputId": "4a8588ae-a0c2-44fc-9d23-fea780df0d85",
        "colab": {
          "base_uri": "https://localhost:8080/",
          "height": 136
        }
      },
      "source": [
        "# Separando uma amostra com 50 elementos randômicos\n",
        "smp = np.arange(len(adultos))\n",
        "np.random.shuffle(smp)\n",
        "n = 50\n",
        "sub_adultos = adultos.loc[smp[:n]]\n",
        "\n",
        "# Cálculo de média e desvio padrão da idade para a amostra\n",
        "xm_age = sub_adultos['age'].mean()\n",
        "xsigma_age = sub_adultos['age'].std()"
      ],
      "execution_count": 0,
      "outputs": [
        {
          "output_type": "stream",
          "text": [
            "/usr/local/lib/python3.6/dist-packages/ipykernel_launcher.py:4: FutureWarning: \n",
            "Passing list-likes to .loc or [] with any missing label will raise\n",
            "KeyError in the future, you can use .reindex() as an alternative.\n",
            "\n",
            "See the documentation here:\n",
            "https://pandas.pydata.org/pandas-docs/stable/user_guide/indexing.html#deprecate-loc-reindex-listlike\n",
            "  after removing the cwd from sys.path.\n"
          ],
          "name": "stderr"
        }
      ]
    },
    {
      "cell_type": "code",
      "metadata": {
        "id": "Hv36wg45wu48",
        "colab_type": "code",
        "outputId": "8ba435b1-f57b-4607-a229-66d964e6dfff",
        "colab": {
          "base_uri": "https://localhost:8080/",
          "height": 85
        }
      },
      "source": [
        "print(mi_age)\n",
        "print(sigma_age)\n",
        "\n",
        "print(xm_age)\n",
        "print(xsigma_age)"
      ],
      "execution_count": 0,
      "outputs": [
        {
          "output_type": "stream",
          "text": [
            "44.24984058155847\n",
            "10.51902771985177\n",
            "45.46666666666667\n",
            "8.542888995003528\n"
          ],
          "name": "stdout"
        }
      ]
    },
    {
      "cell_type": "code",
      "metadata": {
        "id": "z3bwWUqcyyaW",
        "colab_type": "code",
        "colab": {}
      },
      "source": [
        "import scipy.stats as st\n",
        "import numpy as np\n",
        "\n",
        "# Função para cáculo da distribuição do estimador proposto\n",
        "def calc_z0(xm, mi, sigma, n):\n",
        "  return (xm - mi)/(sigma/np.sqrt(n))\n",
        "\n",
        "# Verificação da hipótese nula considerando distribuição normal, considerando a área da curva\n",
        "def decision_normal(z0, alpha, unilateral=True, right=True):\n",
        "  p = st.norm.cdf(z0)\n",
        "  if unilateral:\n",
        "    if right:\n",
        "      reject = (p > (1.0 - alpha))\n",
        "    else:\n",
        "      reject = (p < alpha)\n",
        "  else:\n",
        "    reject = ((p < (alpha/2)) | (p > (1.0 - alpha/2)))\n",
        "\n",
        "  return reject"
      ],
      "execution_count": 0,
      "outputs": []
    },
    {
      "cell_type": "code",
      "metadata": {
        "id": "t48mBjHezG8w",
        "colab_type": "code",
        "outputId": "e7534f40-51a6-496a-da94-afef493b69e5",
        "colab": {
          "base_uri": "https://localhost:8080/",
          "height": 34
        }
      },
      "source": [
        "# Cáculo da distribuição do estimador proposto\n",
        "z0 = calc_z0(xm_age, 40, sigma_age, n)\n",
        "print('z0 = ', z0)"
      ],
      "execution_count": 0,
      "outputs": [
        {
          "output_type": "stream",
          "text": [
            "z0 =  3.6747855157671667\n"
          ],
          "name": "stdout"
        }
      ]
    },
    {
      "cell_type": "code",
      "metadata": {
        "id": "TkjFnQ89zVmr",
        "colab_type": "code",
        "outputId": "443e5af9-aeb3-43a5-a4a4-3ac2a2455695",
        "colab": {
          "base_uri": "https://localhost:8080/",
          "height": 68
        }
      },
      "source": [
        "# Área da região\n",
        "p_z0 = st.norm.cdf(z0)\n",
        "print('p(z0) = ', p_z0)\n",
        "# Nível de significância de 5%, ou seja, grau de confiança de 95%\n",
        "alpha = 0.05\n",
        "\n",
        "reject = decision_normal(z0, alpha)\n",
        "\n",
        "if(reject):\n",
        "  print('H_0 rejeitada')\n",
        "  print('A média de idade de quem ganha acima de 50k é maior que 40 anos.')\n",
        "else:\n",
        "  print('H_0 não rejeitada')\n",
        "  print('Não há evidência de que a média de idade de quem ganha acima de 50k é maior que 40 anos.')"
      ],
      "execution_count": 0,
      "outputs": [
        {
          "output_type": "stream",
          "text": [
            "p(z0) =  0.9998809753462167\n",
            "H_0 rejeitada\n",
            "A média de idade de quem ganha acima de 50k é maior que 40 anos.\n"
          ],
          "name": "stdout"
        }
      ]
    }
  ]
}