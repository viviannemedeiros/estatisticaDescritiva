{
  "nbformat": 4,
  "nbformat_minor": 0,
  "metadata": {
    "colab": {
      "name": "analiseSalarios.ipynb",
      "provenance": [],
      "collapsed_sections": [],
      "include_colab_link": true
    },
    "kernelspec": {
      "display_name": "Python 3",
      "language": "python",
      "name": "python3"
    },
    "language_info": {
      "codemirror_mode": {
        "name": "ipython",
        "version": 3
      },
      "file_extension": ".py",
      "mimetype": "text/x-python",
      "name": "python",
      "nbconvert_exporter": "python",
      "pygments_lexer": "ipython3",
      "version": "3.7.1"
    }
  },
  "cells": [
    {
      "cell_type": "markdown",
      "metadata": {
        "id": "view-in-github",
        "colab_type": "text"
      },
      "source": [
        "<a href=\"https://colab.research.google.com/github/viviannemedeiros/estatisticaDescritiva/blob/master/analiseSalarios.ipynb\" target=\"_parent\"><img src=\"https://colab.research.google.com/assets/colab-badge.svg\" alt=\"Open In Colab\"/></a>"
      ]
    },
    {
      "cell_type": "markdown",
      "metadata": {
        "id": "bFiy2x-lE6JF",
        "colab_type": "text"
      },
      "source": [
        "**Projeto - Estatística Descritiva - 11/01/2020** \n",
        "\n",
        "**Prof:** Tsang Ing Ren\n",
        "\n",
        "**Grupo:**\n",
        "Alexandra Vitorio\n",
        "\n",
        "Victor Marques\n",
        "\n",
        "Vivianne Medeiros\n"
      ]
    },
    {
      "cell_type": "markdown",
      "metadata": {
        "id": "22BL8UtJFlSK",
        "colab_type": "text"
      },
      "source": [
        "**Objetivo:** Predizer quando renda excede $50000 dólares anuais baseados nos dados do censo.\n",
        "\n",
        "**Fonte dos dados:** https://archive.ics.uci.edu/ml/machine-learning-databases/adult/\n"
      ]
    },
    {
      "cell_type": "markdown",
      "metadata": {
        "id": "I8wxsT5d6mJe",
        "colab_type": "text"
      },
      "source": [
        "## Leitura de arquivo e operações iniciais"
      ]
    },
    {
      "cell_type": "code",
      "metadata": {
        "colab_type": "code",
        "id": "PtMZXsv_-rZR",
        "outputId": "92f158f2-99c3-4bdc-ce2d-b5351daf7956",
        "colab": {
          "base_uri": "https://localhost:8080/",
          "height": 1000
        }
      },
      "source": [
        "import numpy as np\n",
        "import pandas as pd\n",
        "adultos=pd.read_csv(\"https://raw.githubusercontent.com/viviannemedeiros/estatisticaDescritiva/master/adult.data\", \n",
        "                      encoding = \"ISO-8859-1\", sep=\",\", header=None, names=['age', 'workclass', 'fnlwgt', 'education', 'education-num', \n",
        "                                                                            'marital-status', 'occupation', 'relationship', 'race', 'sex', \n",
        "                                                                            'capital-gain', 'capital-loss', 'hours-per-week', \n",
        "                                                                            'native-country', 'class'])\n",
        "adultos.head(30)"
      ],
      "execution_count": 34,
      "outputs": [
        {
          "output_type": "execute_result",
          "data": {
            "text/html": [
              "<div>\n",
              "<style scoped>\n",
              "    .dataframe tbody tr th:only-of-type {\n",
              "        vertical-align: middle;\n",
              "    }\n",
              "\n",
              "    .dataframe tbody tr th {\n",
              "        vertical-align: top;\n",
              "    }\n",
              "\n",
              "    .dataframe thead th {\n",
              "        text-align: right;\n",
              "    }\n",
              "</style>\n",
              "<table border=\"1\" class=\"dataframe\">\n",
              "  <thead>\n",
              "    <tr style=\"text-align: right;\">\n",
              "      <th></th>\n",
              "      <th>age</th>\n",
              "      <th>workclass</th>\n",
              "      <th>fnlwgt</th>\n",
              "      <th>education</th>\n",
              "      <th>education-num</th>\n",
              "      <th>marital-status</th>\n",
              "      <th>occupation</th>\n",
              "      <th>relationship</th>\n",
              "      <th>race</th>\n",
              "      <th>sex</th>\n",
              "      <th>capital-gain</th>\n",
              "      <th>capital-loss</th>\n",
              "      <th>hours-per-week</th>\n",
              "      <th>native-country</th>\n",
              "      <th>class</th>\n",
              "    </tr>\n",
              "  </thead>\n",
              "  <tbody>\n",
              "    <tr>\n",
              "      <th>0</th>\n",
              "      <td>39</td>\n",
              "      <td>State-gov</td>\n",
              "      <td>77516</td>\n",
              "      <td>Bachelors</td>\n",
              "      <td>13</td>\n",
              "      <td>Never-married</td>\n",
              "      <td>Adm-clerical</td>\n",
              "      <td>Not-in-family</td>\n",
              "      <td>White</td>\n",
              "      <td>Male</td>\n",
              "      <td>2174</td>\n",
              "      <td>0</td>\n",
              "      <td>40</td>\n",
              "      <td>United-States</td>\n",
              "      <td>&lt;=50K</td>\n",
              "    </tr>\n",
              "    <tr>\n",
              "      <th>1</th>\n",
              "      <td>50</td>\n",
              "      <td>Self-emp-not-inc</td>\n",
              "      <td>83311</td>\n",
              "      <td>Bachelors</td>\n",
              "      <td>13</td>\n",
              "      <td>Married-civ-spouse</td>\n",
              "      <td>Exec-managerial</td>\n",
              "      <td>Husband</td>\n",
              "      <td>White</td>\n",
              "      <td>Male</td>\n",
              "      <td>0</td>\n",
              "      <td>0</td>\n",
              "      <td>13</td>\n",
              "      <td>United-States</td>\n",
              "      <td>&lt;=50K</td>\n",
              "    </tr>\n",
              "    <tr>\n",
              "      <th>2</th>\n",
              "      <td>38</td>\n",
              "      <td>Private</td>\n",
              "      <td>215646</td>\n",
              "      <td>HS-grad</td>\n",
              "      <td>9</td>\n",
              "      <td>Divorced</td>\n",
              "      <td>Handlers-cleaners</td>\n",
              "      <td>Not-in-family</td>\n",
              "      <td>White</td>\n",
              "      <td>Male</td>\n",
              "      <td>0</td>\n",
              "      <td>0</td>\n",
              "      <td>40</td>\n",
              "      <td>United-States</td>\n",
              "      <td>&lt;=50K</td>\n",
              "    </tr>\n",
              "    <tr>\n",
              "      <th>3</th>\n",
              "      <td>53</td>\n",
              "      <td>Private</td>\n",
              "      <td>234721</td>\n",
              "      <td>11th</td>\n",
              "      <td>7</td>\n",
              "      <td>Married-civ-spouse</td>\n",
              "      <td>Handlers-cleaners</td>\n",
              "      <td>Husband</td>\n",
              "      <td>Black</td>\n",
              "      <td>Male</td>\n",
              "      <td>0</td>\n",
              "      <td>0</td>\n",
              "      <td>40</td>\n",
              "      <td>United-States</td>\n",
              "      <td>&lt;=50K</td>\n",
              "    </tr>\n",
              "    <tr>\n",
              "      <th>4</th>\n",
              "      <td>28</td>\n",
              "      <td>Private</td>\n",
              "      <td>338409</td>\n",
              "      <td>Bachelors</td>\n",
              "      <td>13</td>\n",
              "      <td>Married-civ-spouse</td>\n",
              "      <td>Prof-specialty</td>\n",
              "      <td>Wife</td>\n",
              "      <td>Black</td>\n",
              "      <td>Female</td>\n",
              "      <td>0</td>\n",
              "      <td>0</td>\n",
              "      <td>40</td>\n",
              "      <td>Cuba</td>\n",
              "      <td>&lt;=50K</td>\n",
              "    </tr>\n",
              "    <tr>\n",
              "      <th>5</th>\n",
              "      <td>37</td>\n",
              "      <td>Private</td>\n",
              "      <td>284582</td>\n",
              "      <td>Masters</td>\n",
              "      <td>14</td>\n",
              "      <td>Married-civ-spouse</td>\n",
              "      <td>Exec-managerial</td>\n",
              "      <td>Wife</td>\n",
              "      <td>White</td>\n",
              "      <td>Female</td>\n",
              "      <td>0</td>\n",
              "      <td>0</td>\n",
              "      <td>40</td>\n",
              "      <td>United-States</td>\n",
              "      <td>&lt;=50K</td>\n",
              "    </tr>\n",
              "    <tr>\n",
              "      <th>6</th>\n",
              "      <td>49</td>\n",
              "      <td>Private</td>\n",
              "      <td>160187</td>\n",
              "      <td>9th</td>\n",
              "      <td>5</td>\n",
              "      <td>Married-spouse-absent</td>\n",
              "      <td>Other-service</td>\n",
              "      <td>Not-in-family</td>\n",
              "      <td>Black</td>\n",
              "      <td>Female</td>\n",
              "      <td>0</td>\n",
              "      <td>0</td>\n",
              "      <td>16</td>\n",
              "      <td>Jamaica</td>\n",
              "      <td>&lt;=50K</td>\n",
              "    </tr>\n",
              "    <tr>\n",
              "      <th>7</th>\n",
              "      <td>52</td>\n",
              "      <td>Self-emp-not-inc</td>\n",
              "      <td>209642</td>\n",
              "      <td>HS-grad</td>\n",
              "      <td>9</td>\n",
              "      <td>Married-civ-spouse</td>\n",
              "      <td>Exec-managerial</td>\n",
              "      <td>Husband</td>\n",
              "      <td>White</td>\n",
              "      <td>Male</td>\n",
              "      <td>0</td>\n",
              "      <td>0</td>\n",
              "      <td>45</td>\n",
              "      <td>United-States</td>\n",
              "      <td>&gt;50K</td>\n",
              "    </tr>\n",
              "    <tr>\n",
              "      <th>8</th>\n",
              "      <td>31</td>\n",
              "      <td>Private</td>\n",
              "      <td>45781</td>\n",
              "      <td>Masters</td>\n",
              "      <td>14</td>\n",
              "      <td>Never-married</td>\n",
              "      <td>Prof-specialty</td>\n",
              "      <td>Not-in-family</td>\n",
              "      <td>White</td>\n",
              "      <td>Female</td>\n",
              "      <td>14084</td>\n",
              "      <td>0</td>\n",
              "      <td>50</td>\n",
              "      <td>United-States</td>\n",
              "      <td>&gt;50K</td>\n",
              "    </tr>\n",
              "    <tr>\n",
              "      <th>9</th>\n",
              "      <td>42</td>\n",
              "      <td>Private</td>\n",
              "      <td>159449</td>\n",
              "      <td>Bachelors</td>\n",
              "      <td>13</td>\n",
              "      <td>Married-civ-spouse</td>\n",
              "      <td>Exec-managerial</td>\n",
              "      <td>Husband</td>\n",
              "      <td>White</td>\n",
              "      <td>Male</td>\n",
              "      <td>5178</td>\n",
              "      <td>0</td>\n",
              "      <td>40</td>\n",
              "      <td>United-States</td>\n",
              "      <td>&gt;50K</td>\n",
              "    </tr>\n",
              "    <tr>\n",
              "      <th>10</th>\n",
              "      <td>37</td>\n",
              "      <td>Private</td>\n",
              "      <td>280464</td>\n",
              "      <td>Some-college</td>\n",
              "      <td>10</td>\n",
              "      <td>Married-civ-spouse</td>\n",
              "      <td>Exec-managerial</td>\n",
              "      <td>Husband</td>\n",
              "      <td>Black</td>\n",
              "      <td>Male</td>\n",
              "      <td>0</td>\n",
              "      <td>0</td>\n",
              "      <td>80</td>\n",
              "      <td>United-States</td>\n",
              "      <td>&gt;50K</td>\n",
              "    </tr>\n",
              "    <tr>\n",
              "      <th>11</th>\n",
              "      <td>30</td>\n",
              "      <td>State-gov</td>\n",
              "      <td>141297</td>\n",
              "      <td>Bachelors</td>\n",
              "      <td>13</td>\n",
              "      <td>Married-civ-spouse</td>\n",
              "      <td>Prof-specialty</td>\n",
              "      <td>Husband</td>\n",
              "      <td>Asian-Pac-Islander</td>\n",
              "      <td>Male</td>\n",
              "      <td>0</td>\n",
              "      <td>0</td>\n",
              "      <td>40</td>\n",
              "      <td>India</td>\n",
              "      <td>&gt;50K</td>\n",
              "    </tr>\n",
              "    <tr>\n",
              "      <th>12</th>\n",
              "      <td>23</td>\n",
              "      <td>Private</td>\n",
              "      <td>122272</td>\n",
              "      <td>Bachelors</td>\n",
              "      <td>13</td>\n",
              "      <td>Never-married</td>\n",
              "      <td>Adm-clerical</td>\n",
              "      <td>Own-child</td>\n",
              "      <td>White</td>\n",
              "      <td>Female</td>\n",
              "      <td>0</td>\n",
              "      <td>0</td>\n",
              "      <td>30</td>\n",
              "      <td>United-States</td>\n",
              "      <td>&lt;=50K</td>\n",
              "    </tr>\n",
              "    <tr>\n",
              "      <th>13</th>\n",
              "      <td>32</td>\n",
              "      <td>Private</td>\n",
              "      <td>205019</td>\n",
              "      <td>Assoc-acdm</td>\n",
              "      <td>12</td>\n",
              "      <td>Never-married</td>\n",
              "      <td>Sales</td>\n",
              "      <td>Not-in-family</td>\n",
              "      <td>Black</td>\n",
              "      <td>Male</td>\n",
              "      <td>0</td>\n",
              "      <td>0</td>\n",
              "      <td>50</td>\n",
              "      <td>United-States</td>\n",
              "      <td>&lt;=50K</td>\n",
              "    </tr>\n",
              "    <tr>\n",
              "      <th>14</th>\n",
              "      <td>40</td>\n",
              "      <td>Private</td>\n",
              "      <td>121772</td>\n",
              "      <td>Assoc-voc</td>\n",
              "      <td>11</td>\n",
              "      <td>Married-civ-spouse</td>\n",
              "      <td>Craft-repair</td>\n",
              "      <td>Husband</td>\n",
              "      <td>Asian-Pac-Islander</td>\n",
              "      <td>Male</td>\n",
              "      <td>0</td>\n",
              "      <td>0</td>\n",
              "      <td>40</td>\n",
              "      <td>?</td>\n",
              "      <td>&gt;50K</td>\n",
              "    </tr>\n",
              "    <tr>\n",
              "      <th>15</th>\n",
              "      <td>34</td>\n",
              "      <td>Private</td>\n",
              "      <td>245487</td>\n",
              "      <td>7th-8th</td>\n",
              "      <td>4</td>\n",
              "      <td>Married-civ-spouse</td>\n",
              "      <td>Transport-moving</td>\n",
              "      <td>Husband</td>\n",
              "      <td>Amer-Indian-Eskimo</td>\n",
              "      <td>Male</td>\n",
              "      <td>0</td>\n",
              "      <td>0</td>\n",
              "      <td>45</td>\n",
              "      <td>Mexico</td>\n",
              "      <td>&lt;=50K</td>\n",
              "    </tr>\n",
              "    <tr>\n",
              "      <th>16</th>\n",
              "      <td>25</td>\n",
              "      <td>Self-emp-not-inc</td>\n",
              "      <td>176756</td>\n",
              "      <td>HS-grad</td>\n",
              "      <td>9</td>\n",
              "      <td>Never-married</td>\n",
              "      <td>Farming-fishing</td>\n",
              "      <td>Own-child</td>\n",
              "      <td>White</td>\n",
              "      <td>Male</td>\n",
              "      <td>0</td>\n",
              "      <td>0</td>\n",
              "      <td>35</td>\n",
              "      <td>United-States</td>\n",
              "      <td>&lt;=50K</td>\n",
              "    </tr>\n",
              "    <tr>\n",
              "      <th>17</th>\n",
              "      <td>32</td>\n",
              "      <td>Private</td>\n",
              "      <td>186824</td>\n",
              "      <td>HS-grad</td>\n",
              "      <td>9</td>\n",
              "      <td>Never-married</td>\n",
              "      <td>Machine-op-inspct</td>\n",
              "      <td>Unmarried</td>\n",
              "      <td>White</td>\n",
              "      <td>Male</td>\n",
              "      <td>0</td>\n",
              "      <td>0</td>\n",
              "      <td>40</td>\n",
              "      <td>United-States</td>\n",
              "      <td>&lt;=50K</td>\n",
              "    </tr>\n",
              "    <tr>\n",
              "      <th>18</th>\n",
              "      <td>38</td>\n",
              "      <td>Private</td>\n",
              "      <td>28887</td>\n",
              "      <td>11th</td>\n",
              "      <td>7</td>\n",
              "      <td>Married-civ-spouse</td>\n",
              "      <td>Sales</td>\n",
              "      <td>Husband</td>\n",
              "      <td>White</td>\n",
              "      <td>Male</td>\n",
              "      <td>0</td>\n",
              "      <td>0</td>\n",
              "      <td>50</td>\n",
              "      <td>United-States</td>\n",
              "      <td>&lt;=50K</td>\n",
              "    </tr>\n",
              "    <tr>\n",
              "      <th>19</th>\n",
              "      <td>43</td>\n",
              "      <td>Self-emp-not-inc</td>\n",
              "      <td>292175</td>\n",
              "      <td>Masters</td>\n",
              "      <td>14</td>\n",
              "      <td>Divorced</td>\n",
              "      <td>Exec-managerial</td>\n",
              "      <td>Unmarried</td>\n",
              "      <td>White</td>\n",
              "      <td>Female</td>\n",
              "      <td>0</td>\n",
              "      <td>0</td>\n",
              "      <td>45</td>\n",
              "      <td>United-States</td>\n",
              "      <td>&gt;50K</td>\n",
              "    </tr>\n",
              "    <tr>\n",
              "      <th>20</th>\n",
              "      <td>40</td>\n",
              "      <td>Private</td>\n",
              "      <td>193524</td>\n",
              "      <td>Doctorate</td>\n",
              "      <td>16</td>\n",
              "      <td>Married-civ-spouse</td>\n",
              "      <td>Prof-specialty</td>\n",
              "      <td>Husband</td>\n",
              "      <td>White</td>\n",
              "      <td>Male</td>\n",
              "      <td>0</td>\n",
              "      <td>0</td>\n",
              "      <td>60</td>\n",
              "      <td>United-States</td>\n",
              "      <td>&gt;50K</td>\n",
              "    </tr>\n",
              "    <tr>\n",
              "      <th>21</th>\n",
              "      <td>54</td>\n",
              "      <td>Private</td>\n",
              "      <td>302146</td>\n",
              "      <td>HS-grad</td>\n",
              "      <td>9</td>\n",
              "      <td>Separated</td>\n",
              "      <td>Other-service</td>\n",
              "      <td>Unmarried</td>\n",
              "      <td>Black</td>\n",
              "      <td>Female</td>\n",
              "      <td>0</td>\n",
              "      <td>0</td>\n",
              "      <td>20</td>\n",
              "      <td>United-States</td>\n",
              "      <td>&lt;=50K</td>\n",
              "    </tr>\n",
              "    <tr>\n",
              "      <th>22</th>\n",
              "      <td>35</td>\n",
              "      <td>Federal-gov</td>\n",
              "      <td>76845</td>\n",
              "      <td>9th</td>\n",
              "      <td>5</td>\n",
              "      <td>Married-civ-spouse</td>\n",
              "      <td>Farming-fishing</td>\n",
              "      <td>Husband</td>\n",
              "      <td>Black</td>\n",
              "      <td>Male</td>\n",
              "      <td>0</td>\n",
              "      <td>0</td>\n",
              "      <td>40</td>\n",
              "      <td>United-States</td>\n",
              "      <td>&lt;=50K</td>\n",
              "    </tr>\n",
              "    <tr>\n",
              "      <th>23</th>\n",
              "      <td>43</td>\n",
              "      <td>Private</td>\n",
              "      <td>117037</td>\n",
              "      <td>11th</td>\n",
              "      <td>7</td>\n",
              "      <td>Married-civ-spouse</td>\n",
              "      <td>Transport-moving</td>\n",
              "      <td>Husband</td>\n",
              "      <td>White</td>\n",
              "      <td>Male</td>\n",
              "      <td>0</td>\n",
              "      <td>2042</td>\n",
              "      <td>40</td>\n",
              "      <td>United-States</td>\n",
              "      <td>&lt;=50K</td>\n",
              "    </tr>\n",
              "    <tr>\n",
              "      <th>24</th>\n",
              "      <td>59</td>\n",
              "      <td>Private</td>\n",
              "      <td>109015</td>\n",
              "      <td>HS-grad</td>\n",
              "      <td>9</td>\n",
              "      <td>Divorced</td>\n",
              "      <td>Tech-support</td>\n",
              "      <td>Unmarried</td>\n",
              "      <td>White</td>\n",
              "      <td>Female</td>\n",
              "      <td>0</td>\n",
              "      <td>0</td>\n",
              "      <td>40</td>\n",
              "      <td>United-States</td>\n",
              "      <td>&lt;=50K</td>\n",
              "    </tr>\n",
              "    <tr>\n",
              "      <th>25</th>\n",
              "      <td>56</td>\n",
              "      <td>Local-gov</td>\n",
              "      <td>216851</td>\n",
              "      <td>Bachelors</td>\n",
              "      <td>13</td>\n",
              "      <td>Married-civ-spouse</td>\n",
              "      <td>Tech-support</td>\n",
              "      <td>Husband</td>\n",
              "      <td>White</td>\n",
              "      <td>Male</td>\n",
              "      <td>0</td>\n",
              "      <td>0</td>\n",
              "      <td>40</td>\n",
              "      <td>United-States</td>\n",
              "      <td>&gt;50K</td>\n",
              "    </tr>\n",
              "    <tr>\n",
              "      <th>26</th>\n",
              "      <td>19</td>\n",
              "      <td>Private</td>\n",
              "      <td>168294</td>\n",
              "      <td>HS-grad</td>\n",
              "      <td>9</td>\n",
              "      <td>Never-married</td>\n",
              "      <td>Craft-repair</td>\n",
              "      <td>Own-child</td>\n",
              "      <td>White</td>\n",
              "      <td>Male</td>\n",
              "      <td>0</td>\n",
              "      <td>0</td>\n",
              "      <td>40</td>\n",
              "      <td>United-States</td>\n",
              "      <td>&lt;=50K</td>\n",
              "    </tr>\n",
              "    <tr>\n",
              "      <th>27</th>\n",
              "      <td>54</td>\n",
              "      <td>?</td>\n",
              "      <td>180211</td>\n",
              "      <td>Some-college</td>\n",
              "      <td>10</td>\n",
              "      <td>Married-civ-spouse</td>\n",
              "      <td>?</td>\n",
              "      <td>Husband</td>\n",
              "      <td>Asian-Pac-Islander</td>\n",
              "      <td>Male</td>\n",
              "      <td>0</td>\n",
              "      <td>0</td>\n",
              "      <td>60</td>\n",
              "      <td>South</td>\n",
              "      <td>&gt;50K</td>\n",
              "    </tr>\n",
              "    <tr>\n",
              "      <th>28</th>\n",
              "      <td>39</td>\n",
              "      <td>Private</td>\n",
              "      <td>367260</td>\n",
              "      <td>HS-grad</td>\n",
              "      <td>9</td>\n",
              "      <td>Divorced</td>\n",
              "      <td>Exec-managerial</td>\n",
              "      <td>Not-in-family</td>\n",
              "      <td>White</td>\n",
              "      <td>Male</td>\n",
              "      <td>0</td>\n",
              "      <td>0</td>\n",
              "      <td>80</td>\n",
              "      <td>United-States</td>\n",
              "      <td>&lt;=50K</td>\n",
              "    </tr>\n",
              "    <tr>\n",
              "      <th>29</th>\n",
              "      <td>49</td>\n",
              "      <td>Private</td>\n",
              "      <td>193366</td>\n",
              "      <td>HS-grad</td>\n",
              "      <td>9</td>\n",
              "      <td>Married-civ-spouse</td>\n",
              "      <td>Craft-repair</td>\n",
              "      <td>Husband</td>\n",
              "      <td>White</td>\n",
              "      <td>Male</td>\n",
              "      <td>0</td>\n",
              "      <td>0</td>\n",
              "      <td>40</td>\n",
              "      <td>United-States</td>\n",
              "      <td>&lt;=50K</td>\n",
              "    </tr>\n",
              "  </tbody>\n",
              "</table>\n",
              "</div>"
            ],
            "text/plain": [
              "    age          workclass  fnlwgt  ... hours-per-week  native-country   class\n",
              "0    39          State-gov   77516  ...             40   United-States   <=50K\n",
              "1    50   Self-emp-not-inc   83311  ...             13   United-States   <=50K\n",
              "2    38            Private  215646  ...             40   United-States   <=50K\n",
              "3    53            Private  234721  ...             40   United-States   <=50K\n",
              "4    28            Private  338409  ...             40            Cuba   <=50K\n",
              "5    37            Private  284582  ...             40   United-States   <=50K\n",
              "6    49            Private  160187  ...             16         Jamaica   <=50K\n",
              "7    52   Self-emp-not-inc  209642  ...             45   United-States    >50K\n",
              "8    31            Private   45781  ...             50   United-States    >50K\n",
              "9    42            Private  159449  ...             40   United-States    >50K\n",
              "10   37            Private  280464  ...             80   United-States    >50K\n",
              "11   30          State-gov  141297  ...             40           India    >50K\n",
              "12   23            Private  122272  ...             30   United-States   <=50K\n",
              "13   32            Private  205019  ...             50   United-States   <=50K\n",
              "14   40            Private  121772  ...             40               ?    >50K\n",
              "15   34            Private  245487  ...             45          Mexico   <=50K\n",
              "16   25   Self-emp-not-inc  176756  ...             35   United-States   <=50K\n",
              "17   32            Private  186824  ...             40   United-States   <=50K\n",
              "18   38            Private   28887  ...             50   United-States   <=50K\n",
              "19   43   Self-emp-not-inc  292175  ...             45   United-States    >50K\n",
              "20   40            Private  193524  ...             60   United-States    >50K\n",
              "21   54            Private  302146  ...             20   United-States   <=50K\n",
              "22   35        Federal-gov   76845  ...             40   United-States   <=50K\n",
              "23   43            Private  117037  ...             40   United-States   <=50K\n",
              "24   59            Private  109015  ...             40   United-States   <=50K\n",
              "25   56          Local-gov  216851  ...             40   United-States    >50K\n",
              "26   19            Private  168294  ...             40   United-States   <=50K\n",
              "27   54                  ?  180211  ...             60           South    >50K\n",
              "28   39            Private  367260  ...             80   United-States   <=50K\n",
              "29   49            Private  193366  ...             40   United-States   <=50K\n",
              "\n",
              "[30 rows x 15 columns]"
            ]
          },
          "metadata": {
            "tags": []
          },
          "execution_count": 34
        }
      ]
    },
    {
      "cell_type": "code",
      "metadata": {
        "id": "4XfRPFLu_P--",
        "colab_type": "code",
        "outputId": "c5791a8d-dd26-494e-fd43-52f1aa0661e1",
        "colab": {
          "base_uri": "https://localhost:8080/",
          "height": 34
        }
      },
      "source": [
        "# Verificando a quantidade de dados\n",
        "adultos.shape"
      ],
      "execution_count": 0,
      "outputs": [
        {
          "output_type": "execute_result",
          "data": {
            "text/plain": [
              "(32561, 15)"
            ]
          },
          "metadata": {
            "tags": []
          },
          "execution_count": 13
        }
      ]
    },
    {
      "cell_type": "code",
      "metadata": {
        "id": "6r9IjUy72-wO",
        "colab_type": "code",
        "outputId": "c48e8516-3c0f-4d02-cf3f-318e6e0448d9",
        "colab": {
          "base_uri": "https://localhost:8080/",
          "height": 297
        }
      },
      "source": [
        "adultos.describe()"
      ],
      "execution_count": 0,
      "outputs": [
        {
          "output_type": "execute_result",
          "data": {
            "text/html": [
              "<div>\n",
              "<style scoped>\n",
              "    .dataframe tbody tr th:only-of-type {\n",
              "        vertical-align: middle;\n",
              "    }\n",
              "\n",
              "    .dataframe tbody tr th {\n",
              "        vertical-align: top;\n",
              "    }\n",
              "\n",
              "    .dataframe thead th {\n",
              "        text-align: right;\n",
              "    }\n",
              "</style>\n",
              "<table border=\"1\" class=\"dataframe\">\n",
              "  <thead>\n",
              "    <tr style=\"text-align: right;\">\n",
              "      <th></th>\n",
              "      <th>age</th>\n",
              "      <th>fnlwgt</th>\n",
              "      <th>education-num</th>\n",
              "      <th>capital-gain</th>\n",
              "      <th>capital-loss</th>\n",
              "      <th>hours-per-week</th>\n",
              "    </tr>\n",
              "  </thead>\n",
              "  <tbody>\n",
              "    <tr>\n",
              "      <th>count</th>\n",
              "      <td>32561.000000</td>\n",
              "      <td>3.256100e+04</td>\n",
              "      <td>32561.000000</td>\n",
              "      <td>32561.000000</td>\n",
              "      <td>32561.000000</td>\n",
              "      <td>32561.000000</td>\n",
              "    </tr>\n",
              "    <tr>\n",
              "      <th>mean</th>\n",
              "      <td>38.581647</td>\n",
              "      <td>1.897784e+05</td>\n",
              "      <td>10.080679</td>\n",
              "      <td>1077.648844</td>\n",
              "      <td>87.303830</td>\n",
              "      <td>40.437456</td>\n",
              "    </tr>\n",
              "    <tr>\n",
              "      <th>std</th>\n",
              "      <td>13.640433</td>\n",
              "      <td>1.055500e+05</td>\n",
              "      <td>2.572720</td>\n",
              "      <td>7385.292085</td>\n",
              "      <td>402.960219</td>\n",
              "      <td>12.347429</td>\n",
              "    </tr>\n",
              "    <tr>\n",
              "      <th>min</th>\n",
              "      <td>17.000000</td>\n",
              "      <td>1.228500e+04</td>\n",
              "      <td>1.000000</td>\n",
              "      <td>0.000000</td>\n",
              "      <td>0.000000</td>\n",
              "      <td>1.000000</td>\n",
              "    </tr>\n",
              "    <tr>\n",
              "      <th>25%</th>\n",
              "      <td>28.000000</td>\n",
              "      <td>1.178270e+05</td>\n",
              "      <td>9.000000</td>\n",
              "      <td>0.000000</td>\n",
              "      <td>0.000000</td>\n",
              "      <td>40.000000</td>\n",
              "    </tr>\n",
              "    <tr>\n",
              "      <th>50%</th>\n",
              "      <td>37.000000</td>\n",
              "      <td>1.783560e+05</td>\n",
              "      <td>10.000000</td>\n",
              "      <td>0.000000</td>\n",
              "      <td>0.000000</td>\n",
              "      <td>40.000000</td>\n",
              "    </tr>\n",
              "    <tr>\n",
              "      <th>75%</th>\n",
              "      <td>48.000000</td>\n",
              "      <td>2.370510e+05</td>\n",
              "      <td>12.000000</td>\n",
              "      <td>0.000000</td>\n",
              "      <td>0.000000</td>\n",
              "      <td>45.000000</td>\n",
              "    </tr>\n",
              "    <tr>\n",
              "      <th>max</th>\n",
              "      <td>90.000000</td>\n",
              "      <td>1.484705e+06</td>\n",
              "      <td>16.000000</td>\n",
              "      <td>99999.000000</td>\n",
              "      <td>4356.000000</td>\n",
              "      <td>99.000000</td>\n",
              "    </tr>\n",
              "  </tbody>\n",
              "</table>\n",
              "</div>"
            ],
            "text/plain": [
              "                age        fnlwgt  ...  capital-loss  hours-per-week\n",
              "count  32561.000000  3.256100e+04  ...  32561.000000    32561.000000\n",
              "mean      38.581647  1.897784e+05  ...     87.303830       40.437456\n",
              "std       13.640433  1.055500e+05  ...    402.960219       12.347429\n",
              "min       17.000000  1.228500e+04  ...      0.000000        1.000000\n",
              "25%       28.000000  1.178270e+05  ...      0.000000       40.000000\n",
              "50%       37.000000  1.783560e+05  ...      0.000000       40.000000\n",
              "75%       48.000000  2.370510e+05  ...      0.000000       45.000000\n",
              "max       90.000000  1.484705e+06  ...   4356.000000       99.000000\n",
              "\n",
              "[8 rows x 6 columns]"
            ]
          },
          "metadata": {
            "tags": []
          },
          "execution_count": 14
        }
      ]
    },
    {
      "cell_type": "markdown",
      "metadata": {
        "colab_type": "text",
        "id": "w6cnmgVq4gDi"
      },
      "source": [
        "## Setando campos como categóricos"
      ]
    },
    {
      "cell_type": "code",
      "metadata": {
        "colab_type": "code",
        "id": "O-O6BFuKmlPN",
        "outputId": "b1314fb3-1342-4bec-9894-33acf7f34a1b",
        "colab": {
          "base_uri": "https://localhost:8080/",
          "height": 289
        }
      },
      "source": [
        "adultos.dtypes"
      ],
      "execution_count": 0,
      "outputs": [
        {
          "output_type": "execute_result",
          "data": {
            "text/plain": [
              "age                int64\n",
              "workclass         object\n",
              "fnlwgt             int64\n",
              "education         object\n",
              "education-num      int64\n",
              "marital-status    object\n",
              "occupation        object\n",
              "relationship      object\n",
              "race              object\n",
              "sex               object\n",
              "capital-gain       int64\n",
              "capital-loss       int64\n",
              "hours-per-week     int64\n",
              "native-country    object\n",
              "class             object\n",
              "dtype: object"
            ]
          },
          "metadata": {
            "tags": []
          },
          "execution_count": 15
        }
      ]
    },
    {
      "cell_type": "code",
      "metadata": {
        "colab_type": "code",
        "id": "J9n5LrpKm83d",
        "colab": {}
      },
      "source": [
        "#Ajustando tipos dos dados\n",
        "adultos['workclass'] = adultos['workclass'].astype('category')\n",
        "adultos['education'] = adultos['education'].astype('category')\n",
        "adultos['marital-status'] = adultos['marital-status'].astype('category')\n",
        "adultos['occupation'] = adultos['occupation'].astype('category')\n",
        "adultos['relationship'] = adultos['relationship'].astype('category')\n",
        "adultos['race'] = adultos['race'].astype('category')\n",
        "adultos['sex'] = adultos['sex'].astype('category')\n",
        "adultos['native-country'] = adultos['native-country'].astype('category')\n",
        "adultos['class'] = adultos['class'].astype('category')\n"
      ],
      "execution_count": 0,
      "outputs": []
    },
    {
      "cell_type": "code",
      "metadata": {
        "colab_type": "code",
        "id": "HRSFBmGUnMz8",
        "outputId": "a2f7612f-27a7-4563-b66b-f40680f4d55a",
        "colab": {
          "base_uri": "https://localhost:8080/",
          "height": 306
        }
      },
      "source": [
        "adultos.dtypes"
      ],
      "execution_count": 97,
      "outputs": [
        {
          "output_type": "execute_result",
          "data": {
            "text/plain": [
              "age                      int64\n",
              "workclass             category\n",
              "fnlwgt                   int64\n",
              "education             category\n",
              "education-num            int64\n",
              "marital-status        category\n",
              "occupation            category\n",
              "relationship          category\n",
              "race                  category\n",
              "sex                   category\n",
              "capital-gain             int64\n",
              "capital-loss             int64\n",
              "hours-per-week           int64\n",
              "native-country        category\n",
              "class                 category\n",
              "log_hours-per-week     float64\n",
              "dtype: object"
            ]
          },
          "metadata": {
            "tags": []
          },
          "execution_count": 97
        }
      ]
    },
    {
      "cell_type": "markdown",
      "metadata": {
        "id": "smNqowTvpdcG",
        "colab_type": "text"
      },
      "source": [
        "**Variáveis Quantitativas:** \n",
        "  - Discretas: age, education-num, hours-per-week\n",
        "  - Contínuas: fnlwgt, capital-gain, capital-loss\n",
        "\n",
        "**Variáveis Qualitativas:** \n",
        "  - Nominais: workclass, marital-status, occupation, relationship, race, sex, native-country \n",
        "  - Ordinais: education\n"
      ]
    },
    {
      "cell_type": "code",
      "metadata": {
        "id": "O1rWsqNTtS6y",
        "colab_type": "code",
        "colab": {}
      },
      "source": [
        "np.random.seed(4)\n",
        "amostra1 = adultos.loc[np.random.randint(0, 32561, 3256)]"
      ],
      "execution_count": 0,
      "outputs": []
    },
    {
      "cell_type": "code",
      "metadata": {
        "id": "FwlO2EvvvEd_",
        "colab_type": "code",
        "colab": {}
      },
      "source": [
        "np.random.seed(2)\n",
        "amostra2 = adultos.loc[np.random.randint(0, 32562, 3256)]"
      ],
      "execution_count": 0,
      "outputs": []
    },
    {
      "cell_type": "code",
      "metadata": {
        "id": "qpBiLiTvvZcJ",
        "colab_type": "code",
        "colab": {}
      },
      "source": [
        "np.random.seed(7)\n",
        "amostra3 = adultos.loc[np.random.randint(0,32562,3256)]"
      ],
      "execution_count": 0,
      "outputs": []
    },
    {
      "cell_type": "code",
      "metadata": {
        "id": "_PiQQ7iDubqU",
        "colab_type": "code",
        "outputId": "09e44814-5d91-4294-c5cb-9a4b07d76da6",
        "colab": {
          "base_uri": "https://localhost:8080/",
          "height": 758
        }
      },
      "source": [
        "\n",
        "import matplotlib.pyplot as plt\n",
        "plt.boxplot([adultos['hours-per-week'], amostra1['hours-per-week'], amostra2['hours-per-week'], amostra3['hours-per-week']])\n"
      ],
      "execution_count": 35,
      "outputs": [
        {
          "output_type": "execute_result",
          "data": {
            "text/plain": [
              "{'boxes': [<matplotlib.lines.Line2D at 0x7f8532615518>,\n",
              "  <matplotlib.lines.Line2D at 0x7f8532621be0>,\n",
              "  <matplotlib.lines.Line2D at 0x7f8532636358>,\n",
              "  <matplotlib.lines.Line2D at 0x7f85325c3a90>],\n",
              " 'caps': [<matplotlib.lines.Line2D at 0x7f8532615eb8>,\n",
              "  <matplotlib.lines.Line2D at 0x7f8532621240>,\n",
              "  <matplotlib.lines.Line2D at 0x7f853262c630>,\n",
              "  <matplotlib.lines.Line2D at 0x7f853262c978>,\n",
              "  <matplotlib.lines.Line2D at 0x7f8532636d68>,\n",
              "  <matplotlib.lines.Line2D at 0x7f85325c30f0>,\n",
              "  <matplotlib.lines.Line2D at 0x7f85325ce4e0>,\n",
              "  <matplotlib.lines.Line2D at 0x7f85325ce828>],\n",
              " 'fliers': [<matplotlib.lines.Line2D at 0x7f85326218d0>,\n",
              "  <matplotlib.lines.Line2D at 0x7f8532636048>,\n",
              "  <matplotlib.lines.Line2D at 0x7f85325c3780>,\n",
              "  <matplotlib.lines.Line2D at 0x7f85325ceeb8>],\n",
              " 'means': [],\n",
              " 'medians': [<matplotlib.lines.Line2D at 0x7f8532621588>,\n",
              "  <matplotlib.lines.Line2D at 0x7f853262ccc0>,\n",
              "  <matplotlib.lines.Line2D at 0x7f85325c3438>,\n",
              "  <matplotlib.lines.Line2D at 0x7f85325ceb70>],\n",
              " 'whiskers': [<matplotlib.lines.Line2D at 0x7f8532615828>,\n",
              "  <matplotlib.lines.Line2D at 0x7f8532615b70>,\n",
              "  <matplotlib.lines.Line2D at 0x7f8532621f60>,\n",
              "  <matplotlib.lines.Line2D at 0x7f853262c2e8>,\n",
              "  <matplotlib.lines.Line2D at 0x7f85326366d8>,\n",
              "  <matplotlib.lines.Line2D at 0x7f8532636a20>,\n",
              "  <matplotlib.lines.Line2D at 0x7f85325c3e10>,\n",
              "  <matplotlib.lines.Line2D at 0x7f85325ce198>]}"
            ]
          },
          "metadata": {
            "tags": []
          },
          "execution_count": 35
        },
        {
          "output_type": "display_data",
          "data": {
            "image/png": "[encoded data removed]",
            "text/plain": [
              "<Figure size 432x288 with 1 Axes>"
            ]
          },
          "metadata": {
            "tags": []
          }
        }
      ]
    },
    {
      "cell_type": "markdown",
      "metadata": {
        "colab_type": "text",
        "id": "6V4tDIKz4tOg"
      },
      "source": [
        "## Tratamento de dados ausentes"
      ]
    },
    {
      "cell_type": "code",
      "metadata": {
        "colab_type": "code",
        "id": "HZQ-Q33r_Uz_",
        "outputId": "cf661bc8-fa0b-44af-f6ca-a63fd50406c4",
        "colab": {
          "base_uri": "https://localhost:8080/",
          "height": 289
        }
      },
      "source": [
        "# Verificando quantidade de dados nulos\n",
        "print(adultos.isnull().sum())"
      ],
      "execution_count": 36,
      "outputs": [
        {
          "output_type": "stream",
          "text": [
            "age               0\n",
            "workclass         0\n",
            "fnlwgt            0\n",
            "education         0\n",
            "education-num     0\n",
            "marital-status    0\n",
            "occupation        0\n",
            "relationship      0\n",
            "race              0\n",
            "sex               0\n",
            "capital-gain      0\n",
            "capital-loss      0\n",
            "hours-per-week    0\n",
            "native-country    0\n",
            "class             0\n",
            "dtype: int64\n"
          ],
          "name": "stdout"
        }
      ]
    },
    {
      "cell_type": "code",
      "metadata": {
        "id": "LbFYZwdP_lRM",
        "colab_type": "code",
        "colab": {
          "base_uri": "https://localhost:8080/",
          "height": 34
        },
        "outputId": "447b18e4-973b-4e33-b5db-50759330ebdd"
      },
      "source": [
        "print(len(adultos))"
      ],
      "execution_count": 52,
      "outputs": [
        {
          "output_type": "stream",
          "text": [
            "32561\n"
          ],
          "name": "stdout"
        }
      ]
    },
    {
      "cell_type": "code",
      "metadata": {
        "id": "Hy0WOSub_Yr7",
        "colab_type": "code",
        "colab": {
          "base_uri": "https://localhost:8080/",
          "height": 34
        },
        "outputId": "d229e5b5-27e6-457b-e1d4-d73cc9ed38bb"
      },
      "source": [
        "adultos[adultos.duplicated(keep=False)]\n",
        "print(len(adultos))"
      ],
      "execution_count": 53,
      "outputs": [
        {
          "output_type": "stream",
          "text": [
            "32561\n"
          ],
          "name": "stdout"
        }
      ]
    },
    {
      "cell_type": "markdown",
      "metadata": {
        "id": "extoK3fK_KFM",
        "colab_type": "text"
      },
      "source": [
        "**Ressalva:** Como não há dados ausentes e nem linhas repetidas, optou-se por remover outliers. Além disso, o enriquecimento dos dados não será necessário em virtude de não existir dados ausentes."
      ]
    },
    {
      "cell_type": "markdown",
      "metadata": {
        "id": "kSN03GUvq7G1",
        "colab_type": "text"
      },
      "source": [
        "## Removendo Outliers\n"
      ]
    },
    {
      "cell_type": "code",
      "metadata": {
        "id": "aq76N3_r8277",
        "colab_type": "code",
        "outputId": "08962751-8a5e-4ac4-c7d4-566d0566aa13",
        "colab": {
          "base_uri": "https://localhost:8080/",
          "height": 170
        }
      },
      "source": [
        "adultos['hours-per-week'].describe()"
      ],
      "execution_count": 37,
      "outputs": [
        {
          "output_type": "execute_result",
          "data": {
            "text/plain": [
              "count    32561.000000\n",
              "mean        40.437456\n",
              "std         12.347429\n",
              "min          1.000000\n",
              "25%         40.000000\n",
              "50%         40.000000\n",
              "75%         45.000000\n",
              "max         99.000000\n",
              "Name: hours-per-week, dtype: float64"
            ]
          },
          "metadata": {
            "tags": []
          },
          "execution_count": 37
        }
      ]
    },
    {
      "cell_type": "code",
      "metadata": {
        "id": "8ap2NdQt9MrG",
        "colab_type": "code",
        "outputId": "14390492-8b39-490b-e949-2a96605d2c7e",
        "colab": {
          "base_uri": "https://localhost:8080/",
          "height": 282
        }
      },
      "source": [
        "adultos['hours-per-week'].plot.box()"
      ],
      "execution_count": 38,
      "outputs": [
        {
          "output_type": "execute_result",
          "data": {
            "text/plain": [
              "<matplotlib.axes._subplots.AxesSubplot at 0x7f853257dd68>"
            ]
          },
          "metadata": {
            "tags": []
          },
          "execution_count": 38
        },
        {
          "output_type": "display_data",
          "data": {
            "image/png": "[encoded data removed]",
            "text/plain": [
              "<Figure size 432x288 with 1 Axes>"
            ]
          },
          "metadata": {
            "tags": []
          }
        }
      ]
    },
    {
      "cell_type": "code",
      "metadata": {
        "id": "cNbAClNV9T0X",
        "colab_type": "code",
        "outputId": "d04b5c82-309f-4977-8254-800f092197da",
        "colab": {
          "base_uri": "https://localhost:8080/",
          "height": 282
        }
      },
      "source": [
        "(adultos['hours-per-week']).hist()"
      ],
      "execution_count": 40,
      "outputs": [
        {
          "output_type": "execute_result",
          "data": {
            "text/plain": [
              "<matplotlib.axes._subplots.AxesSubplot at 0x7f8532c73da0>"
            ]
          },
          "metadata": {
            "tags": []
          },
          "execution_count": 40
        },
        {
          "output_type": "display_data",
          "data": {
            "image/png": "[encoded data removed]",
            "text/plain": [
              "<Figure size 432x288 with 1 Axes>"
            ]
          },
          "metadata": {
            "tags": []
          }
        }
      ]
    },
    {
      "cell_type": "code",
      "metadata": {
        "colab_type": "code",
        "outputId": "55350310-8227-4737-8ec1-4f8d1d76b808",
        "id": "Vj1NIHeq807c",
        "colab": {
          "base_uri": "https://localhost:8080/",
          "height": 282
        }
      },
      "source": [
        "adultos['log_hours-per-week'] = adultos['hours-per-week'].apply(np.log10)\n",
        "adultos[adultos['log_hours-per-week'] > 0]['log_hours-per-week'].hist()"
      ],
      "execution_count": 0,
      "outputs": [
        {
          "output_type": "execute_result",
          "data": {
            "text/plain": [
              "<matplotlib.axes._subplots.AxesSubplot at 0x7f8532565eb8>"
            ]
          },
          "metadata": {
            "tags": []
          },
          "execution_count": 41
        },
        {
          "output_type": "display_data",
          "data": {
            "image/png": "[encoded data removed]",
            "text/plain": [
              "<Figure size 432x288 with 1 Axes>"
            ]
          },
          "metadata": {
            "tags": []
          }
        }
      ]
    },
    {
      "cell_type": "code",
      "metadata": {
        "id": "ILL1hwpE90ve",
        "colab_type": "code",
        "outputId": "27f20f25-524c-4993-de09-5951a266e81a",
        "colab": {
          "base_uri": "https://localhost:8080/",
          "height": 34
        }
      },
      "source": [
        "# Utilizando z-score robusto (univariado)\n",
        "from numpy import abs\n",
        "mad = abs(adultos['log_hours-per-week'] - adultos['log_hours-per-week'].median()).median()*(1/0.6745)\n",
        "print(mad)"
      ],
      "execution_count": 42,
      "outputs": [
        {
          "output_type": "stream",
          "text": [
            "0.05019757933427357\n"
          ],
          "name": "stdout"
        }
      ]
    },
    {
      "cell_type": "code",
      "metadata": {
        "id": "MJEpF1vQ-fJh",
        "colab_type": "code",
        "outputId": "4401bb7c-aebe-4cbc-8a3c-336a535e334a",
        "colab": {
          "base_uri": "https://localhost:8080/",
          "height": 51
        }
      },
      "source": [
        "adultosSemOutliers = adultos[abs(adultos['log_hours-per-week']-adultos['log_hours-per-week'].median())/mad < 3.5]\n",
        "print(len(adultosSemOutliers))\n",
        "print(len(adultos))"
      ],
      "execution_count": 51,
      "outputs": [
        {
          "output_type": "stream",
          "text": [
            "26003\n",
            "32561\n"
          ],
          "name": "stdout"
        }
      ]
    },
    {
      "cell_type": "code",
      "metadata": {
        "id": "T5YBlJ0W9TeM",
        "colab_type": "code",
        "colab": {
          "base_uri": "https://localhost:8080/",
          "height": 520
        },
        "outputId": "7497b94e-72f5-44c5-c1ad-19f0fe4f108a"
      },
      "source": [
        "plt.boxplot([adultos['hours-per-week'], adultosSemOutliers['hours-per-week']])"
      ],
      "execution_count": 54,
      "outputs": [
        {
          "output_type": "execute_result",
          "data": {
            "text/plain": [
              "{'boxes': [<matplotlib.lines.Line2D at 0x7f8530f4e048>,\n",
              "  <matplotlib.lines.Line2D at 0x7f8530f576a0>],\n",
              " 'caps': [<matplotlib.lines.Line2D at 0x7f8530f4e978>,\n",
              "  <matplotlib.lines.Line2D at 0x7f8530f4ecc0>,\n",
              "  <matplotlib.lines.Line2D at 0x7f8530f610f0>,\n",
              "  <matplotlib.lines.Line2D at 0x7f8530f61438>],\n",
              " 'fliers': [<matplotlib.lines.Line2D at 0x7f8530f57390>,\n",
              "  <matplotlib.lines.Line2D at 0x7f8530f61ac8>],\n",
              " 'means': [],\n",
              " 'medians': [<matplotlib.lines.Line2D at 0x7f8530f57048>,\n",
              "  <matplotlib.lines.Line2D at 0x7f8530f61780>],\n",
              " 'whiskers': [<matplotlib.lines.Line2D at 0x7f8530fe90b8>,\n",
              "  <matplotlib.lines.Line2D at 0x7f8530f4e630>,\n",
              "  <matplotlib.lines.Line2D at 0x7f8530f57a20>,\n",
              "  <matplotlib.lines.Line2D at 0x7f8530f57d68>]}"
            ]
          },
          "metadata": {
            "tags": []
          },
          "execution_count": 54
        },
        {
          "output_type": "display_data",
          "data": {
            "image/png": "[encoded data removed]",
            "text/plain": [
              "<Figure size 432x288 with 1 Axes>"
            ]
          },
          "metadata": {
            "tags": []
          }
        }
      ]
    },
    {
      "cell_type": "markdown",
      "metadata": {
        "id": "2r4jN1Jc-I0J",
        "colab_type": "text"
      },
      "source": [
        "**Análise:**\n",
        "A população inicial contava com 32561 registros e, após limpeza por remoção de outliers, ficou com 26003.\n",
        "O gráfico acima apresenta boxplots comparativos com a variável horas trabalhadas, tanto com a base original como com a base após limpeza.  \n"
      ]
    },
    {
      "cell_type": "markdown",
      "metadata": {
        "id": "v-e_QlTnFNh1",
        "colab_type": "text"
      },
      "source": [
        "## Estatísticas"
      ]
    },
    {
      "cell_type": "code",
      "metadata": {
        "id": "zqSInNZaARP1",
        "colab_type": "code",
        "colab": {
          "base_uri": "https://localhost:8080/",
          "height": 136
        },
        "outputId": "ab2fcfe2-c9c7-40a7-bc87-116ffd6be1ae"
      },
      "source": [
        "adultos['hours-per-week'].agg(['min', 'max', 'mean','median', 'std', 'var'])"
      ],
      "execution_count": 89,
      "outputs": [
        {
          "output_type": "execute_result",
          "data": {
            "text/plain": [
              "min         1.000000\n",
              "max        99.000000\n",
              "mean       40.437456\n",
              "median     40.000000\n",
              "std        12.347429\n",
              "var       152.458995\n",
              "Name: hours-per-week, dtype: float64"
            ]
          },
          "metadata": {
            "tags": []
          },
          "execution_count": 89
        }
      ]
    },
    {
      "cell_type": "code",
      "metadata": {
        "id": "xo9ykxmUDVBy",
        "colab_type": "code",
        "colab": {
          "base_uri": "https://localhost:8080/",
          "height": 51
        },
        "outputId": "b890c0f2-1d92-477a-dc2e-f621b107d2cc"
      },
      "source": [
        "# Coeficiente de variação\n",
        "print(adultos['hours-per-week'].std()/adultos['hours-per-week'].mean())\n",
        "# Amplitude\n",
        "print(adultos['hours-per-week'].max() - adultos['hours-per-week'].min())\n"
      ],
      "execution_count": 92,
      "outputs": [
        {
          "output_type": "stream",
          "text": [
            "0.3053463285844112\n",
            "98\n"
          ],
          "name": "stdout"
        }
      ]
    },
    {
      "cell_type": "code",
      "metadata": {
        "id": "fHwXgz22CItl",
        "colab_type": "code",
        "colab": {
          "base_uri": "https://localhost:8080/",
          "height": 34
        },
        "outputId": "c64db5da-1718-4f3d-cf9c-0753acbf98f1"
      },
      "source": [
        "import statistics\n",
        "# Moda\n",
        "statistics.mode(adultos['hours-per-week'])"
      ],
      "execution_count": 77,
      "outputs": [
        {
          "output_type": "execute_result",
          "data": {
            "text/plain": [
              "40"
            ]
          },
          "metadata": {
            "tags": []
          },
          "execution_count": 77
        }
      ]
    },
    {
      "cell_type": "code",
      "metadata": {
        "id": "iP0sF-YsA97G",
        "colab_type": "code",
        "colab": {
          "base_uri": "https://localhost:8080/",
          "height": 136
        },
        "outputId": "6101bad6-8bcb-4cdd-c379-6371afdd4f17"
      },
      "source": [
        "adultosSemOutliers['hours-per-week'].agg(['min', 'max', 'mean','median', 'std', 'var'])"
      ],
      "execution_count": 82,
      "outputs": [
        {
          "output_type": "execute_result",
          "data": {
            "text/plain": [
              "min       27.000000\n",
              "max       59.000000\n",
              "mean      41.363689\n",
              "median    40.000000\n",
              "std        5.366542\n",
              "var       28.799769\n",
              "Name: hours-per-week, dtype: float64"
            ]
          },
          "metadata": {
            "tags": []
          },
          "execution_count": 82
        }
      ]
    },
    {
      "cell_type": "code",
      "metadata": {
        "id": "4scNndZkEOv3",
        "colab_type": "code",
        "colab": {
          "base_uri": "https://localhost:8080/",
          "height": 51
        },
        "outputId": "ffcfe394-9d8a-4433-b2f9-2ea929616a1f"
      },
      "source": [
        "# Coeficiente de variação\n",
        "print(adultosSemOutliers['hours-per-week'].std()/adultosSemOutliers['hours-per-week'].mean())\n",
        "# Amplitude\n",
        "print(adultosSemOutliers['hours-per-week'].max() - adultosSemOutliers['hours-per-week'].min())\n"
      ],
      "execution_count": 85,
      "outputs": [
        {
          "output_type": "stream",
          "text": [
            "0.12974040236628695\n",
            "32\n"
          ],
          "name": "stdout"
        }
      ]
    },
    {
      "cell_type": "code",
      "metadata": {
        "id": "da6FNp_LEhV8",
        "colab_type": "code",
        "colab": {
          "base_uri": "https://localhost:8080/",
          "height": 34
        },
        "outputId": "0c10827b-5e07-493e-cfd2-2684b9b47a10"
      },
      "source": [
        "# Moda\n",
        "statistics.mode(adultosSemOutliers['hours-per-week'])"
      ],
      "execution_count": 81,
      "outputs": [
        {
          "output_type": "execute_result",
          "data": {
            "text/plain": [
              "40"
            ]
          },
          "metadata": {
            "tags": []
          },
          "execution_count": 81
        }
      ]
    },
    {
      "cell_type": "markdown",
      "metadata": {
        "id": "fPSXivtijlRq",
        "colab_type": "text"
      },
      "source": [
        "## Visualização dos dados\n",
        "\n"
      ]
    },
    {
      "cell_type": "code",
      "metadata": {
        "id": "AV__Mbtof_R_",
        "colab_type": "code",
        "outputId": "10d14018-5926-4dce-fe04-4d95a315d392",
        "colab": {
          "base_uri": "https://localhost:8080/",
          "height": 187
        }
      },
      "source": [
        "import matplotlib.pyplot as plt\n",
        "%matplotlib inline\n",
        "#Imprimindo um mapa de calor usando a correlação de Spearman\n",
        "adultos.corr(method='spearman').style.format(\"{:.2}\").background_gradient(cmap=plt.get_cmap('coolwarm'), axis=1)"
      ],
      "execution_count": 93,
      "outputs": [
        {
          "output_type": "execute_result",
          "data": {
            "text/html": [
              "<style  type=\"text/css\" >\n",
              "    #T_a0b9914e_34aa_11ea_9732_0242ac1c0002row0_col0 {\n",
              "            background-color:  #b40426;\n",
              "            color:  #f1f1f1;\n",
              "        }    #T_a0b9914e_34aa_11ea_9732_0242ac1c0002row0_col1 {\n",
              "            background-color:  #3b4cc0;\n",
              "            color:  #f1f1f1;\n",
              "        }    #T_a0b9914e_34aa_11ea_9732_0242ac1c0002row0_col2 {\n",
              "            background-color:  #6485ec;\n",
              "            color:  #000000;\n",
              "        }    #T_a0b9914e_34aa_11ea_9732_0242ac1c0002row0_col3 {\n",
              "            background-color:  #779af7;\n",
              "            color:  #000000;\n",
              "        }    #T_a0b9914e_34aa_11ea_9732_0242ac1c0002row0_col4 {\n",
              "            background-color:  #6282ea;\n",
              "            color:  #000000;\n",
              "        }    #T_a0b9914e_34aa_11ea_9732_0242ac1c0002row0_col5 {\n",
              "            background-color:  #7da0f9;\n",
              "            color:  #000000;\n",
              "        }    #T_a0b9914e_34aa_11ea_9732_0242ac1c0002row0_col6 {\n",
              "            background-color:  #7da0f9;\n",
              "            color:  #000000;\n",
              "        }    #T_a0b9914e_34aa_11ea_9732_0242ac1c0002row1_col0 {\n",
              "            background-color:  #3b4cc0;\n",
              "            color:  #f1f1f1;\n",
              "        }    #T_a0b9914e_34aa_11ea_9732_0242ac1c0002row1_col1 {\n",
              "            background-color:  #b40426;\n",
              "            color:  #f1f1f1;\n",
              "        }    #T_a0b9914e_34aa_11ea_9732_0242ac1c0002row1_col2 {\n",
              "            background-color:  #465ecf;\n",
              "            color:  #f1f1f1;\n",
              "        }    #T_a0b9914e_34aa_11ea_9732_0242ac1c0002row1_col3 {\n",
              "            background-color:  #4f69d9;\n",
              "            color:  #000000;\n",
              "        }    #T_a0b9914e_34aa_11ea_9732_0242ac1c0002row1_col4 {\n",
              "            background-color:  #4e68d8;\n",
              "            color:  #000000;\n",
              "        }    #T_a0b9914e_34aa_11ea_9732_0242ac1c0002row1_col5 {\n",
              "            background-color:  #4a63d3;\n",
              "            color:  #f1f1f1;\n",
              "        }    #T_a0b9914e_34aa_11ea_9732_0242ac1c0002row1_col6 {\n",
              "            background-color:  #4a63d3;\n",
              "            color:  #f1f1f1;\n",
              "        }    #T_a0b9914e_34aa_11ea_9732_0242ac1c0002row2_col0 {\n",
              "            background-color:  #5977e3;\n",
              "            color:  #000000;\n",
              "        }    #T_a0b9914e_34aa_11ea_9732_0242ac1c0002row2_col1 {\n",
              "            background-color:  #3b4cc0;\n",
              "            color:  #f1f1f1;\n",
              "        }    #T_a0b9914e_34aa_11ea_9732_0242ac1c0002row2_col2 {\n",
              "            background-color:  #b40426;\n",
              "            color:  #f1f1f1;\n",
              "        }    #T_a0b9914e_34aa_11ea_9732_0242ac1c0002row2_col3 {\n",
              "            background-color:  #6a8bef;\n",
              "            color:  #000000;\n",
              "        }    #T_a0b9914e_34aa_11ea_9732_0242ac1c0002row2_col4 {\n",
              "            background-color:  #5b7ae5;\n",
              "            color:  #000000;\n",
              "        }    #T_a0b9914e_34aa_11ea_9732_0242ac1c0002row2_col5 {\n",
              "            background-color:  #7a9df8;\n",
              "            color:  #000000;\n",
              "        }    #T_a0b9914e_34aa_11ea_9732_0242ac1c0002row2_col6 {\n",
              "            background-color:  #7a9df8;\n",
              "            color:  #000000;\n",
              "        }    #T_a0b9914e_34aa_11ea_9732_0242ac1c0002row3_col0 {\n",
              "            background-color:  #7396f5;\n",
              "            color:  #000000;\n",
              "        }    #T_a0b9914e_34aa_11ea_9732_0242ac1c0002row3_col1 {\n",
              "            background-color:  #4b64d5;\n",
              "            color:  #f1f1f1;\n",
              "        }    #T_a0b9914e_34aa_11ea_9732_0242ac1c0002row3_col2 {\n",
              "            background-color:  #7295f4;\n",
              "            color:  #000000;\n",
              "        }    #T_a0b9914e_34aa_11ea_9732_0242ac1c0002row3_col3 {\n",
              "            background-color:  #b40426;\n",
              "            color:  #f1f1f1;\n",
              "        }    #T_a0b9914e_34aa_11ea_9732_0242ac1c0002row3_col4 {\n",
              "            background-color:  #3b4cc0;\n",
              "            color:  #f1f1f1;\n",
              "        }    #T_a0b9914e_34aa_11ea_9732_0242ac1c0002row3_col5 {\n",
              "            background-color:  #6a8bef;\n",
              "            color:  #000000;\n",
              "        }    #T_a0b9914e_34aa_11ea_9732_0242ac1c0002row3_col6 {\n",
              "            background-color:  #6a8bef;\n",
              "            color:  #000000;\n",
              "        }    #T_a0b9914e_34aa_11ea_9732_0242ac1c0002row4_col0 {\n",
              "            background-color:  #5f7fe8;\n",
              "            color:  #000000;\n",
              "        }    #T_a0b9914e_34aa_11ea_9732_0242ac1c0002row4_col1 {\n",
              "            background-color:  #4b64d5;\n",
              "            color:  #f1f1f1;\n",
              "        }    #T_a0b9914e_34aa_11ea_9732_0242ac1c0002row4_col2 {\n",
              "            background-color:  #6384eb;\n",
              "            color:  #000000;\n",
              "        }    #T_a0b9914e_34aa_11ea_9732_0242ac1c0002row4_col3 {\n",
              "            background-color:  #3b4cc0;\n",
              "            color:  #f1f1f1;\n",
              "        }    #T_a0b9914e_34aa_11ea_9732_0242ac1c0002row4_col4 {\n",
              "            background-color:  #b40426;\n",
              "            color:  #f1f1f1;\n",
              "        }    #T_a0b9914e_34aa_11ea_9732_0242ac1c0002row4_col5 {\n",
              "            background-color:  #5f7fe8;\n",
              "            color:  #000000;\n",
              "        }    #T_a0b9914e_34aa_11ea_9732_0242ac1c0002row4_col6 {\n",
              "            background-color:  #5f7fe8;\n",
              "            color:  #000000;\n",
              "        }    #T_a0b9914e_34aa_11ea_9732_0242ac1c0002row5_col0 {\n",
              "            background-color:  #6e90f2;\n",
              "            color:  #000000;\n",
              "        }    #T_a0b9914e_34aa_11ea_9732_0242ac1c0002row5_col1 {\n",
              "            background-color:  #3b4cc0;\n",
              "            color:  #f1f1f1;\n",
              "        }    #T_a0b9914e_34aa_11ea_9732_0242ac1c0002row5_col2 {\n",
              "            background-color:  #7699f6;\n",
              "            color:  #000000;\n",
              "        }    #T_a0b9914e_34aa_11ea_9732_0242ac1c0002row5_col3 {\n",
              "            background-color:  #5d7ce6;\n",
              "            color:  #000000;\n",
              "        }    #T_a0b9914e_34aa_11ea_9732_0242ac1c0002row5_col4 {\n",
              "            background-color:  #536edd;\n",
              "            color:  #000000;\n",
              "        }    #T_a0b9914e_34aa_11ea_9732_0242ac1c0002row5_col5 {\n",
              "            background-color:  #b40426;\n",
              "            color:  #f1f1f1;\n",
              "        }    #T_a0b9914e_34aa_11ea_9732_0242ac1c0002row5_col6 {\n",
              "            background-color:  #b40426;\n",
              "            color:  #f1f1f1;\n",
              "        }    #T_a0b9914e_34aa_11ea_9732_0242ac1c0002row6_col0 {\n",
              "            background-color:  #6e90f2;\n",
              "            color:  #000000;\n",
              "        }    #T_a0b9914e_34aa_11ea_9732_0242ac1c0002row6_col1 {\n",
              "            background-color:  #3b4cc0;\n",
              "            color:  #f1f1f1;\n",
              "        }    #T_a0b9914e_34aa_11ea_9732_0242ac1c0002row6_col2 {\n",
              "            background-color:  #7699f6;\n",
              "            color:  #000000;\n",
              "        }    #T_a0b9914e_34aa_11ea_9732_0242ac1c0002row6_col3 {\n",
              "            background-color:  #5d7ce6;\n",
              "            color:  #000000;\n",
              "        }    #T_a0b9914e_34aa_11ea_9732_0242ac1c0002row6_col4 {\n",
              "            background-color:  #536edd;\n",
              "            color:  #000000;\n",
              "        }    #T_a0b9914e_34aa_11ea_9732_0242ac1c0002row6_col5 {\n",
              "            background-color:  #b40426;\n",
              "            color:  #f1f1f1;\n",
              "        }    #T_a0b9914e_34aa_11ea_9732_0242ac1c0002row6_col6 {\n",
              "            background-color:  #b40426;\n",
              "            color:  #f1f1f1;\n",
              "        }</style><table id=\"T_a0b9914e_34aa_11ea_9732_0242ac1c0002\" ><thead>    <tr>        <th class=\"blank level0\" ></th>        <th class=\"col_heading level0 col0\" >age</th>        <th class=\"col_heading level0 col1\" >fnlwgt</th>        <th class=\"col_heading level0 col2\" >education-num</th>        <th class=\"col_heading level0 col3\" >capital-gain</th>        <th class=\"col_heading level0 col4\" >capital-loss</th>        <th class=\"col_heading level0 col5\" >hours-per-week</th>        <th class=\"col_heading level0 col6\" >log_hours-per-week</th>    </tr></thead><tbody>\n",
              "                <tr>\n",
              "                        <th id=\"T_a0b9914e_34aa_11ea_9732_0242ac1c0002level0_row0\" class=\"row_heading level0 row0\" >age</th>\n",
              "                        <td id=\"T_a0b9914e_34aa_11ea_9732_0242ac1c0002row0_col0\" class=\"data row0 col0\" >1.0</td>\n",
              "                        <td id=\"T_a0b9914e_34aa_11ea_9732_0242ac1c0002row0_col1\" class=\"data row0 col1\" >-0.078</td>\n",
              "                        <td id=\"T_a0b9914e_34aa_11ea_9732_0242ac1c0002row0_col2\" class=\"data row0 col2\" >0.066</td>\n",
              "                        <td id=\"T_a0b9914e_34aa_11ea_9732_0242ac1c0002row0_col3\" class=\"data row0 col3\" >0.12</td>\n",
              "                        <td id=\"T_a0b9914e_34aa_11ea_9732_0242ac1c0002row0_col4\" class=\"data row0 col4\" >0.058</td>\n",
              "                        <td id=\"T_a0b9914e_34aa_11ea_9732_0242ac1c0002row0_col5\" class=\"data row0 col5\" >0.14</td>\n",
              "                        <td id=\"T_a0b9914e_34aa_11ea_9732_0242ac1c0002row0_col6\" class=\"data row0 col6\" >0.14</td>\n",
              "            </tr>\n",
              "            <tr>\n",
              "                        <th id=\"T_a0b9914e_34aa_11ea_9732_0242ac1c0002level0_row1\" class=\"row_heading level0 row1\" >fnlwgt</th>\n",
              "                        <td id=\"T_a0b9914e_34aa_11ea_9732_0242ac1c0002row1_col0\" class=\"data row1 col0\" >-0.078</td>\n",
              "                        <td id=\"T_a0b9914e_34aa_11ea_9732_0242ac1c0002row1_col1\" class=\"data row1 col1\" >1.0</td>\n",
              "                        <td id=\"T_a0b9914e_34aa_11ea_9732_0242ac1c0002row1_col2\" class=\"data row1 col2\" >-0.036</td>\n",
              "                        <td id=\"T_a0b9914e_34aa_11ea_9732_0242ac1c0002row1_col3\" class=\"data row1 col3\" >-0.006</td>\n",
              "                        <td id=\"T_a0b9914e_34aa_11ea_9732_0242ac1c0002row1_col4\" class=\"data row1 col4\" >-0.0069</td>\n",
              "                        <td id=\"T_a0b9914e_34aa_11ea_9732_0242ac1c0002row1_col5\" class=\"data row1 col5\" >-0.022</td>\n",
              "                        <td id=\"T_a0b9914e_34aa_11ea_9732_0242ac1c0002row1_col6\" class=\"data row1 col6\" >-0.022</td>\n",
              "            </tr>\n",
              "            <tr>\n",
              "                        <th id=\"T_a0b9914e_34aa_11ea_9732_0242ac1c0002level0_row2\" class=\"row_heading level0 row2\" >education-num</th>\n",
              "                        <td id=\"T_a0b9914e_34aa_11ea_9732_0242ac1c0002row2_col0\" class=\"data row2 col0\" >0.066</td>\n",
              "                        <td id=\"T_a0b9914e_34aa_11ea_9732_0242ac1c0002row2_col1\" class=\"data row2 col1\" >-0.036</td>\n",
              "                        <td id=\"T_a0b9914e_34aa_11ea_9732_0242ac1c0002row2_col2\" class=\"data row2 col2\" >1.0</td>\n",
              "                        <td id=\"T_a0b9914e_34aa_11ea_9732_0242ac1c0002row2_col3\" class=\"data row2 col3\" >0.12</td>\n",
              "                        <td id=\"T_a0b9914e_34aa_11ea_9732_0242ac1c0002row2_col4\" class=\"data row2 col4\" >0.075</td>\n",
              "                        <td id=\"T_a0b9914e_34aa_11ea_9732_0242ac1c0002row2_col5\" class=\"data row2 col5\" >0.17</td>\n",
              "                        <td id=\"T_a0b9914e_34aa_11ea_9732_0242ac1c0002row2_col6\" class=\"data row2 col6\" >0.17</td>\n",
              "            </tr>\n",
              "            <tr>\n",
              "                        <th id=\"T_a0b9914e_34aa_11ea_9732_0242ac1c0002level0_row3\" class=\"row_heading level0 row3\" >capital-gain</th>\n",
              "                        <td id=\"T_a0b9914e_34aa_11ea_9732_0242ac1c0002row3_col0\" class=\"data row3 col0\" >0.12</td>\n",
              "                        <td id=\"T_a0b9914e_34aa_11ea_9732_0242ac1c0002row3_col1\" class=\"data row3 col1\" >-0.006</td>\n",
              "                        <td id=\"T_a0b9914e_34aa_11ea_9732_0242ac1c0002row3_col2\" class=\"data row3 col2\" >0.12</td>\n",
              "                        <td id=\"T_a0b9914e_34aa_11ea_9732_0242ac1c0002row3_col3\" class=\"data row3 col3\" >1.0</td>\n",
              "                        <td id=\"T_a0b9914e_34aa_11ea_9732_0242ac1c0002row3_col4\" class=\"data row3 col4\" >-0.067</td>\n",
              "                        <td id=\"T_a0b9914e_34aa_11ea_9732_0242ac1c0002row3_col5\" class=\"data row3 col5\" >0.093</td>\n",
              "                        <td id=\"T_a0b9914e_34aa_11ea_9732_0242ac1c0002row3_col6\" class=\"data row3 col6\" >0.093</td>\n",
              "            </tr>\n",
              "            <tr>\n",
              "                        <th id=\"T_a0b9914e_34aa_11ea_9732_0242ac1c0002level0_row4\" class=\"row_heading level0 row4\" >capital-loss</th>\n",
              "                        <td id=\"T_a0b9914e_34aa_11ea_9732_0242ac1c0002row4_col0\" class=\"data row4 col0\" >0.058</td>\n",
              "                        <td id=\"T_a0b9914e_34aa_11ea_9732_0242ac1c0002row4_col1\" class=\"data row4 col1\" >-0.0069</td>\n",
              "                        <td id=\"T_a0b9914e_34aa_11ea_9732_0242ac1c0002row4_col2\" class=\"data row4 col2\" >0.075</td>\n",
              "                        <td id=\"T_a0b9914e_34aa_11ea_9732_0242ac1c0002row4_col3\" class=\"data row4 col3\" >-0.067</td>\n",
              "                        <td id=\"T_a0b9914e_34aa_11ea_9732_0242ac1c0002row4_col4\" class=\"data row4 col4\" >1.0</td>\n",
              "                        <td id=\"T_a0b9914e_34aa_11ea_9732_0242ac1c0002row4_col5\" class=\"data row4 col5\" >0.06</td>\n",
              "                        <td id=\"T_a0b9914e_34aa_11ea_9732_0242ac1c0002row4_col6\" class=\"data row4 col6\" >0.06</td>\n",
              "            </tr>\n",
              "            <tr>\n",
              "                        <th id=\"T_a0b9914e_34aa_11ea_9732_0242ac1c0002level0_row5\" class=\"row_heading level0 row5\" >hours-per-week</th>\n",
              "                        <td id=\"T_a0b9914e_34aa_11ea_9732_0242ac1c0002row5_col0\" class=\"data row5 col0\" >0.14</td>\n",
              "                        <td id=\"T_a0b9914e_34aa_11ea_9732_0242ac1c0002row5_col1\" class=\"data row5 col1\" >-0.022</td>\n",
              "                        <td id=\"T_a0b9914e_34aa_11ea_9732_0242ac1c0002row5_col2\" class=\"data row5 col2\" >0.17</td>\n",
              "                        <td id=\"T_a0b9914e_34aa_11ea_9732_0242ac1c0002row5_col3\" class=\"data row5 col3\" >0.093</td>\n",
              "                        <td id=\"T_a0b9914e_34aa_11ea_9732_0242ac1c0002row5_col4\" class=\"data row5 col4\" >0.06</td>\n",
              "                        <td id=\"T_a0b9914e_34aa_11ea_9732_0242ac1c0002row5_col5\" class=\"data row5 col5\" >1.0</td>\n",
              "                        <td id=\"T_a0b9914e_34aa_11ea_9732_0242ac1c0002row5_col6\" class=\"data row5 col6\" >1.0</td>\n",
              "            </tr>\n",
              "            <tr>\n",
              "                        <th id=\"T_a0b9914e_34aa_11ea_9732_0242ac1c0002level0_row6\" class=\"row_heading level0 row6\" >log_hours-per-week</th>\n",
              "                        <td id=\"T_a0b9914e_34aa_11ea_9732_0242ac1c0002row6_col0\" class=\"data row6 col0\" >0.14</td>\n",
              "                        <td id=\"T_a0b9914e_34aa_11ea_9732_0242ac1c0002row6_col1\" class=\"data row6 col1\" >-0.022</td>\n",
              "                        <td id=\"T_a0b9914e_34aa_11ea_9732_0242ac1c0002row6_col2\" class=\"data row6 col2\" >0.17</td>\n",
              "                        <td id=\"T_a0b9914e_34aa_11ea_9732_0242ac1c0002row6_col3\" class=\"data row6 col3\" >0.093</td>\n",
              "                        <td id=\"T_a0b9914e_34aa_11ea_9732_0242ac1c0002row6_col4\" class=\"data row6 col4\" >0.06</td>\n",
              "                        <td id=\"T_a0b9914e_34aa_11ea_9732_0242ac1c0002row6_col5\" class=\"data row6 col5\" >1.0</td>\n",
              "                        <td id=\"T_a0b9914e_34aa_11ea_9732_0242ac1c0002row6_col6\" class=\"data row6 col6\" >1.0</td>\n",
              "            </tr>\n",
              "    </tbody></table>"
            ],
            "text/plain": [
              "<pandas.io.formats.style.Styler at 0x7f8530dfe860>"
            ]
          },
          "metadata": {
            "tags": []
          },
          "execution_count": 93
        }
      ]
    },
    {
      "cell_type": "code",
      "metadata": {
        "id": "uwMXQkgBJN2z",
        "colab_type": "code",
        "colab": {
          "base_uri": "https://localhost:8080/",
          "height": 306
        },
        "outputId": "8a930365-8394-4b71-d0f8-fefeb93c6e61"
      },
      "source": [
        "adultos.dtypes"
      ],
      "execution_count": 98,
      "outputs": [
        {
          "output_type": "execute_result",
          "data": {
            "text/plain": [
              "age                      int64\n",
              "workclass             category\n",
              "fnlwgt                   int64\n",
              "education             category\n",
              "education-num            int64\n",
              "marital-status        category\n",
              "occupation            category\n",
              "relationship          category\n",
              "race                  category\n",
              "sex                   category\n",
              "capital-gain             int64\n",
              "capital-loss             int64\n",
              "hours-per-week           int64\n",
              "native-country        category\n",
              "class                 category\n",
              "log_hours-per-week     float64\n",
              "dtype: object"
            ]
          },
          "metadata": {
            "tags": []
          },
          "execution_count": 98
        }
      ]
    },
    {
      "cell_type": "code",
      "metadata": {
        "id": "E0e7Co7SLBFH",
        "colab_type": "code",
        "colab": {
          "base_uri": "https://localhost:8080/",
          "height": 34
        },
        "outputId": "16887f2a-f111-4310-fd47-e65622fa1d88"
      },
      "source": [
        "adultos['class'].cat.categories"
      ],
      "execution_count": 102,
      "outputs": [
        {
          "output_type": "execute_result",
          "data": {
            "text/plain": [
              "Index([' <=50K', ' >50K'], dtype='object')"
            ]
          },
          "metadata": {
            "tags": []
          },
          "execution_count": 102
        }
      ]
    },
    {
      "cell_type": "code",
      "metadata": {
        "id": "PbApmrRVKb0P",
        "colab_type": "code",
        "colab": {
          "base_uri": "https://localhost:8080/",
          "height": 34
        },
        "outputId": "37c77e8a-4014-4f00-c195-9584e1fd6081"
      },
      "source": [
        "adultosMenorIgual50k = adultos[adultos['class'] == ' <=50K']\n",
        "len(adultosMenorIgual50k)"
      ],
      "execution_count": 110,
      "outputs": [
        {
          "output_type": "execute_result",
          "data": {
            "text/plain": [
              "24720"
            ]
          },
          "metadata": {
            "tags": []
          },
          "execution_count": 110
        }
      ]
    },
    {
      "cell_type": "code",
      "metadata": {
        "id": "TUJpgcGFL818",
        "colab_type": "code",
        "colab": {
          "base_uri": "https://localhost:8080/",
          "height": 34
        },
        "outputId": "ca5680d4-f4ac-4b0f-ad63-b90df4cc7563"
      },
      "source": [
        "adultosMaior50k = adultos[adultos['class'] == ' >50K']\n",
        "len(adultosMaior50k)"
      ],
      "execution_count": 111,
      "outputs": [
        {
          "output_type": "execute_result",
          "data": {
            "text/plain": [
              "7841"
            ]
          },
          "metadata": {
            "tags": []
          },
          "execution_count": 111
        }
      ]
    },
    {
      "cell_type": "code",
      "metadata": {
        "id": "NUgnTw9WNIgq",
        "colab_type": "code",
        "colab": {
          "base_uri": "https://localhost:8080/",
          "height": 652
        },
        "outputId": "dc1582ce-8ced-4995-8d0d-c2362e0790d2"
      },
      "source": [
        "adultosMenorIgual50k.groupby(['sex'])['sex'].count().sort_values(ascending=False).plot.bar(figsize=(20,10))"
      ],
      "execution_count": 118,
      "outputs": [
        {
          "output_type": "execute_result",
          "data": {
            "text/plain": [
              "<matplotlib.axes._subplots.AxesSubplot at 0x7f853057ad68>"
            ]
          },
          "metadata": {
            "tags": []
          },
          "execution_count": 118
        },
        {
          "output_type": "display_data",
          "data": {
            "image/png": "[encoded data removed]",
            "text/plain": [
              "<Figure size 1440x720 with 1 Axes>"
            ]
          },
          "metadata": {
            "tags": []
          }
        }
      ]
    },
    {
      "cell_type": "code",
      "metadata": {
        "id": "Y6i5E9imJGic",
        "colab_type": "code",
        "colab": {
          "base_uri": "https://localhost:8080/",
          "height": 652
        },
        "outputId": "fda7448d-5491-4616-8c50-e11c8e37f881"
      },
      "source": [
        "adultosMaior50k.groupby(['sex'])['sex'].count().sort_values(ascending=False).plot.bar(figsize=(20,10))\n"
      ],
      "execution_count": 119,
      "outputs": [
        {
          "output_type": "execute_result",
          "data": {
            "text/plain": [
              "<matplotlib.axes._subplots.AxesSubplot at 0x7f85304d7fd0>"
            ]
          },
          "metadata": {
            "tags": []
          },
          "execution_count": 119
        },
        {
          "output_type": "display_data",
          "data": {
            "image/png": "[encoded data removed]",
            "text/plain": [
              "<Figure size 1440x720 with 1 Axes>"
            ]
          },
          "metadata": {
            "tags": []
          }
        }
      ]
    },
    {
      "cell_type": "code",
      "metadata": {
        "id": "P9IhTco5NQiX",
        "colab_type": "code",
        "colab": {
          "base_uri": "https://localhost:8080/",
          "height": 683
        },
        "outputId": "ef4e501b-ad2b-4601-c348-92711a8c958f"
      },
      "source": [
        "adultosMenorIgual50k.groupby(['education'])['education'].count().sort_values(ascending=False).plot.bar(figsize=(20,10))"
      ],
      "execution_count": 126,
      "outputs": [
        {
          "output_type": "execute_result",
          "data": {
            "text/plain": [
              "<matplotlib.axes._subplots.AxesSubplot at 0x7f85301877f0>"
            ]
          },
          "metadata": {
            "tags": []
          },
          "execution_count": 126
        },
        {
          "output_type": "display_data",
          "data": {
            "image/png": "[encoded data removed]",
            "text/plain": [
              "<Figure size 1440x720 with 1 Axes>"
            ]
          },
          "metadata": {
            "tags": []
          }
        }
      ]
    },
    {
      "cell_type": "code",
      "metadata": {
        "id": "m_Pro3SXNesw",
        "colab_type": "code",
        "colab": {
          "base_uri": "https://localhost:8080/",
          "height": 683
        },
        "outputId": "73552fab-1aca-46d5-a302-1c5a711d1c21"
      },
      "source": [
        "adultosMaior50k.groupby(['education'])['education'].count().sort_values(ascending=False).plot.bar(figsize=(20,10))"
      ],
      "execution_count": 125,
      "outputs": [
        {
          "output_type": "execute_result",
          "data": {
            "text/plain": [
              "<matplotlib.axes._subplots.AxesSubplot at 0x7f8530209240>"
            ]
          },
          "metadata": {
            "tags": []
          },
          "execution_count": 125
        },
        {
          "output_type": "display_data",
          "data": {
            "image/png": "[encoded data removed]",
            "text/plain": [
              "<Figure size 1440x720 with 1 Axes>"
            ]
          },
          "metadata": {
            "tags": []
          }
        }
      ]
    },
    {
      "cell_type": "code",
      "metadata": {
        "id": "ZiluV65mO2BU",
        "colab_type": "code",
        "colab": {
          "base_uri": "https://localhost:8080/",
          "height": 119
        },
        "outputId": "634044df-02c1-4e13-c5cd-d408a8c8872b"
      },
      "source": [
        "adultos['age_dist'] = pd.cut(adultos['age'], 5)\n",
        "adultos['age_dist'].value_counts()"
      ],
      "execution_count": 129,
      "outputs": [
        {
          "output_type": "execute_result",
          "data": {
            "text/plain": [
              "(31.6, 46.2]      12211\n",
              "(16.927, 31.6]    11460\n",
              "(46.2, 60.8]       6558\n",
              "(60.8, 75.4]       2091\n",
              "(75.4, 90.0]        241\n",
              "Name: age_dist, dtype: int64"
            ]
          },
          "metadata": {
            "tags": []
          },
          "execution_count": 129
        }
      ]
    },
    {
      "cell_type": "code",
      "metadata": {
        "id": "y6SCqrftPyOJ",
        "colab_type": "code",
        "colab": {
          "base_uri": "https://localhost:8080/",
          "height": 282
        },
        "outputId": "de33b5fa-b828-4084-e8e1-d0765c5d62b1"
      },
      "source": [
        "counts = adultos['age_dist'].value_counts()\n",
        "counts.plot.bar(rot=0)"
      ],
      "execution_count": 130,
      "outputs": [
        {
          "output_type": "execute_result",
          "data": {
            "text/plain": [
              "<matplotlib.axes._subplots.AxesSubplot at 0x7f852fc9bb38>"
            ]
          },
          "metadata": {
            "tags": []
          },
          "execution_count": 130
        },
        {
          "output_type": "display_data",
          "data": {
            "image/png": "[encoded data removed]",
            "text/plain": [
              "<Figure size 432x288 with 1 Axes>"
            ]
          },
          "metadata": {
            "tags": []
          }
        }
      ]
    },
    {
      "cell_type": "code",
      "metadata": {
        "id": "bVrSkpoTQS-6",
        "colab_type": "code",
        "colab": {
          "base_uri": "https://localhost:8080/",
          "height": 388
        },
        "outputId": "30199352-1b15-45a3-d708-9ae5cc0597ef"
      },
      "source": [
        "adultosMaior50k['age_dist'] = pd.cut(adultosMaior50k['age'], 5)\n",
        "countsMaior50k = adultosMaior50k['age_dist'].value_counts()\n",
        "countsMaior50k.plot.bar(rot=0)"
      ],
      "execution_count": 133,
      "outputs": [
        {
          "output_type": "stream",
          "text": [
            "/usr/local/lib/python3.6/dist-packages/ipykernel_launcher.py:1: SettingWithCopyWarning: \n",
            "A value is trying to be set on a copy of a slice from a DataFrame.\n",
            "Try using .loc[row_indexer,col_indexer] = value instead\n",
            "\n",
            "See the caveats in the documentation: http://pandas.pydata.org/pandas-docs/stable/user_guide/indexing.html#returning-a-view-versus-a-copy\n",
            "  \"\"\"Entry point for launching an IPython kernel.\n"
          ],
          "name": "stderr"
        },
        {
          "output_type": "execute_result",
          "data": {
            "text/plain": [
              "<matplotlib.axes._subplots.AxesSubplot at 0x7f852fb1a198>"
            ]
          },
          "metadata": {
            "tags": []
          },
          "execution_count": 133
        },
        {
          "output_type": "display_data",
          "data": {
            "image/png": "[encoded data removed]",
            "text/plain": [
              "<Figure size 432x288 with 1 Axes>"
            ]
          },
          "metadata": {
            "tags": []
          }
        }
      ]
    },
    {
      "cell_type": "code",
      "metadata": {
        "id": "c1CLER4KQxXi",
        "colab_type": "code",
        "colab": {
          "base_uri": "https://localhost:8080/",
          "height": 384
        },
        "outputId": "bf56d588-f7e8-4d53-aeb9-ff0da9b03852"
      },
      "source": [
        "adultosMenorIgual50k['age_dist'] = pd.cut(adultosMenorIgual50k['age'], 5)\n",
        "countsMenor50k = adultosMenorIgual50k['age_dist'].value_counts()\n",
        "countsMenor50k.plot.bar(rot=0)"
      ],
      "execution_count": 134,
      "outputs": [
        {
          "output_type": "stream",
          "text": [
            "/usr/local/lib/python3.6/dist-packages/ipykernel_launcher.py:1: SettingWithCopyWarning: \n",
            "A value is trying to be set on a copy of a slice from a DataFrame.\n",
            "Try using .loc[row_indexer,col_indexer] = value instead\n",
            "\n",
            "See the caveats in the documentation: http://pandas.pydata.org/pandas-docs/stable/user_guide/indexing.html#returning-a-view-versus-a-copy\n",
            "  \"\"\"Entry point for launching an IPython kernel.\n"
          ],
          "name": "stderr"
        },
        {
          "output_type": "execute_result",
          "data": {
            "text/plain": [
              "<matplotlib.axes._subplots.AxesSubplot at 0x7f852fa80da0>"
            ]
          },
          "metadata": {
            "tags": []
          },
          "execution_count": 134
        },
        {
          "output_type": "display_data",
          "data": {
            "image/png": "[encoded data removed]",
            "text/plain": [
              "<Figure size 432x288 with 1 Axes>"
            ]
          },
          "metadata": {
            "tags": []
          }
        }
      ]
    }
  ]
}